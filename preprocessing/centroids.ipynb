{
 "cells": [
  {
   "cell_type": "code",
   "execution_count": 1,
   "metadata": {},
   "outputs": [],
   "source": [
    "import pandas as pd"
   ]
  },
  {
   "cell_type": "code",
   "execution_count": 2,
   "metadata": {},
   "outputs": [],
   "source": [
    "from pathlib import Path\n",
    "\n",
    "data = Path('../data')"
   ]
  },
  {
   "cell_type": "code",
   "execution_count": 3,
   "metadata": {},
   "outputs": [],
   "source": [
    "centroids = pd.read_csv(data / 'country_centroids.csv')"
   ]
  },
  {
   "cell_type": "code",
   "execution_count": 4,
   "metadata": {},
   "outputs": [
    {
     "data": {
      "text/html": [
       "<div>\n",
       "<style scoped>\n",
       "    .dataframe tbody tr th:only-of-type {\n",
       "        vertical-align: middle;\n",
       "    }\n",
       "\n",
       "    .dataframe tbody tr th {\n",
       "        vertical-align: top;\n",
       "    }\n",
       "\n",
       "    .dataframe thead th {\n",
       "        text-align: right;\n",
       "    }\n",
       "</style>\n",
       "<table border=\"1\" class=\"dataframe\">\n",
       "  <thead>\n",
       "    <tr style=\"text-align: right;\">\n",
       "      <th></th>\n",
       "      <th>longitude</th>\n",
       "      <th>latitude</th>\n",
       "      <th>COUNTRY</th>\n",
       "      <th>ISO</th>\n",
       "      <th>COUNTRYAFF</th>\n",
       "      <th>AFF_ISO</th>\n",
       "    </tr>\n",
       "  </thead>\n",
       "  <tbody>\n",
       "    <tr>\n",
       "      <th>0</th>\n",
       "      <td>-170.700732</td>\n",
       "      <td>-14.305712</td>\n",
       "      <td>American Samoa</td>\n",
       "      <td>AS</td>\n",
       "      <td>United States</td>\n",
       "      <td>US</td>\n",
       "    </tr>\n",
       "    <tr>\n",
       "      <th>1</th>\n",
       "      <td>166.638003</td>\n",
       "      <td>19.302046</td>\n",
       "      <td>United States Minor Outlying Islands</td>\n",
       "      <td>UM</td>\n",
       "      <td>United States</td>\n",
       "      <td>US</td>\n",
       "    </tr>\n",
       "    <tr>\n",
       "      <th>2</th>\n",
       "      <td>-159.787689</td>\n",
       "      <td>-21.222613</td>\n",
       "      <td>Cook Islands</td>\n",
       "      <td>CK</td>\n",
       "      <td>New Zealand</td>\n",
       "      <td>NZ</td>\n",
       "    </tr>\n",
       "    <tr>\n",
       "      <th>3</th>\n",
       "      <td>-149.400417</td>\n",
       "      <td>-17.674684</td>\n",
       "      <td>French Polynesia</td>\n",
       "      <td>PF</td>\n",
       "      <td>France</td>\n",
       "      <td>FR</td>\n",
       "    </tr>\n",
       "    <tr>\n",
       "      <th>4</th>\n",
       "      <td>-169.868781</td>\n",
       "      <td>-19.052309</td>\n",
       "      <td>Niue</td>\n",
       "      <td>NU</td>\n",
       "      <td>New Zealand</td>\n",
       "      <td>NZ</td>\n",
       "    </tr>\n",
       "    <tr>\n",
       "      <th>...</th>\n",
       "      <td>...</td>\n",
       "      <td>...</td>\n",
       "      <td>...</td>\n",
       "      <td>...</td>\n",
       "      <td>...</td>\n",
       "      <td>...</td>\n",
       "    </tr>\n",
       "    <tr>\n",
       "      <th>244</th>\n",
       "      <td>145.741197</td>\n",
       "      <td>15.178064</td>\n",
       "      <td>Northern Mariana Islands</td>\n",
       "      <td>MP</td>\n",
       "      <td>United States</td>\n",
       "      <td>US</td>\n",
       "    </tr>\n",
       "    <tr>\n",
       "      <th>245</th>\n",
       "      <td>134.579651</td>\n",
       "      <td>7.534776</td>\n",
       "      <td>Palau</td>\n",
       "      <td>PW</td>\n",
       "      <td>Palau</td>\n",
       "      <td>PW</td>\n",
       "    </tr>\n",
       "    <tr>\n",
       "      <th>246</th>\n",
       "      <td>98.670499</td>\n",
       "      <td>59.039434</td>\n",
       "      <td>Russian Federation</td>\n",
       "      <td>RU</td>\n",
       "      <td>Russian Federation</td>\n",
       "      <td>RU</td>\n",
       "    </tr>\n",
       "    <tr>\n",
       "      <th>247</th>\n",
       "      <td>-3.651625</td>\n",
       "      <td>40.365008</td>\n",
       "      <td>Spain</td>\n",
       "      <td>ES</td>\n",
       "      <td>Spain</td>\n",
       "      <td>ES</td>\n",
       "    </tr>\n",
       "    <tr>\n",
       "      <th>248</th>\n",
       "      <td>-16.537994</td>\n",
       "      <td>28.297665</td>\n",
       "      <td>Canarias</td>\n",
       "      <td>ES</td>\n",
       "      <td>Spain</td>\n",
       "      <td>ES</td>\n",
       "    </tr>\n",
       "  </tbody>\n",
       "</table>\n",
       "<p>249 rows × 6 columns</p>\n",
       "</div>"
      ],
      "text/plain": [
       "      longitude   latitude                               COUNTRY ISO  \\\n",
       "0   -170.700732 -14.305712                        American Samoa  AS   \n",
       "1    166.638003  19.302046  United States Minor Outlying Islands  UM   \n",
       "2   -159.787689 -21.222613                          Cook Islands  CK   \n",
       "3   -149.400417 -17.674684                      French Polynesia  PF   \n",
       "4   -169.868781 -19.052309                                  Niue  NU   \n",
       "..          ...        ...                                   ...  ..   \n",
       "244  145.741197  15.178064              Northern Mariana Islands  MP   \n",
       "245  134.579651   7.534776                                 Palau  PW   \n",
       "246   98.670499  59.039434                    Russian Federation  RU   \n",
       "247   -3.651625  40.365008                                 Spain  ES   \n",
       "248  -16.537994  28.297665                              Canarias  ES   \n",
       "\n",
       "             COUNTRYAFF AFF_ISO  \n",
       "0         United States      US  \n",
       "1         United States      US  \n",
       "2           New Zealand      NZ  \n",
       "3                France      FR  \n",
       "4           New Zealand      NZ  \n",
       "..                  ...     ...  \n",
       "244       United States      US  \n",
       "245               Palau      PW  \n",
       "246  Russian Federation      RU  \n",
       "247               Spain      ES  \n",
       "248               Spain      ES  \n",
       "\n",
       "[249 rows x 6 columns]"
      ]
     },
     "execution_count": 4,
     "metadata": {},
     "output_type": "execute_result"
    }
   ],
   "source": [
    "centroids"
   ]
  },
  {
   "cell_type": "code",
   "execution_count": 5,
   "metadata": {},
   "outputs": [
    {
     "data": {
      "text/plain": [
       "191          Afghanistan\n",
       "163              Albania\n",
       "124              Algeria\n",
       "0         American Samoa\n",
       "153              Andorra\n",
       "             ...        \n",
       "231              Vietnam\n",
       "9      Wallis and Futuna\n",
       "207                Yemen\n",
       "113               Zambia\n",
       "114             Zimbabwe\n",
       "Name: COUNTRY, Length: 249, dtype: object"
      ]
     },
     "execution_count": 5,
     "metadata": {},
     "output_type": "execute_result"
    }
   ],
   "source": [
    "# list of all countries sorted in alphabetical order\n",
    "centroids[\"COUNTRY\"].sort_values()"
   ]
  },
  {
   "cell_type": "code",
   "execution_count": 8,
   "metadata": {},
   "outputs": [
    {
     "data": {
      "text/html": [
       "<div>\n",
       "<style scoped>\n",
       "    .dataframe tbody tr th:only-of-type {\n",
       "        vertical-align: middle;\n",
       "    }\n",
       "\n",
       "    .dataframe tbody tr th {\n",
       "        vertical-align: top;\n",
       "    }\n",
       "\n",
       "    .dataframe thead th {\n",
       "        text-align: right;\n",
       "    }\n",
       "</style>\n",
       "<table border=\"1\" class=\"dataframe\">\n",
       "  <thead>\n",
       "    <tr style=\"text-align: right;\">\n",
       "      <th></th>\n",
       "      <th>longitude</th>\n",
       "      <th>latitude</th>\n",
       "      <th>COUNTRY</th>\n",
       "      <th>ISO</th>\n",
       "      <th>COUNTRYAFF</th>\n",
       "      <th>AFF_ISO</th>\n",
       "    </tr>\n",
       "  </thead>\n",
       "  <tbody>\n",
       "    <tr>\n",
       "      <th>211</th>\n",
       "      <td>74.175329</td>\n",
       "      <td>41.356989</td>\n",
       "      <td>Kyrgyzstan</td>\n",
       "      <td>KG</td>\n",
       "      <td>Kyrgyzstan</td>\n",
       "      <td>KG</td>\n",
       "    </tr>\n",
       "  </tbody>\n",
       "</table>\n",
       "</div>"
      ],
      "text/plain": [
       "     longitude   latitude     COUNTRY ISO  COUNTRYAFF AFF_ISO\n",
       "211  74.175329  41.356989  Kyrgyzstan  KG  Kyrgyzstan      KG"
      ]
     },
     "execution_count": 8,
     "metadata": {},
     "output_type": "execute_result"
    }
   ],
   "source": [
    "centroids[centroids[\"COUNTRY\"].str.contains(\"Kyrgyzstan\")]"
   ]
  },
  {
   "cell_type": "code",
   "execution_count": 7,
   "metadata": {},
   "outputs": [
    {
     "data": {
      "text/plain": [
       "array(['Australia', 'Denmark', 'France', 'Netherlands', 'New Zealand',\n",
       "       'Norway', 'Spain', 'United Kingdom', 'United States'], dtype=object)"
      ]
     },
     "execution_count": 7,
     "metadata": {},
     "output_type": "execute_result"
    }
   ],
   "source": [
    "# print is there is a COUNTRY==\"Belize\"\n",
    "\n",
    "# Print the names of the COUNTRYAFF who have more than 1 COUNTRY, along with their COUNTRY (groupby)\n",
    "affiliations = centroids[[\"COUNTRYAFF\", \"COUNTRY\"]].groupby(\"COUNTRYAFF\").filter(lambda x: len(x) > 1).sort_values(\"COUNTRYAFF\")\n",
    "affiliations['COUNTRYAFF'].unique()"
   ]
  },
  {
   "cell_type": "code",
   "execution_count": 7,
   "metadata": {},
   "outputs": [
    {
     "ename": "NameError",
     "evalue": "name 'affiliations' is not defined",
     "output_type": "error",
     "traceback": [
      "\u001b[0;31m---------------------------------------------------------------------------\u001b[0m",
      "\u001b[0;31mNameError\u001b[0m                                 Traceback (most recent call last)",
      "\u001b[0;32m/tmp/ipykernel_19565/2645835056.py\u001b[0m in \u001b[0;36m<module>\u001b[0;34m\u001b[0m\n\u001b[0;32m----> 1\u001b[0;31m \u001b[0maffiliations\u001b[0m\u001b[0;34m[\u001b[0m\u001b[0maffiliations\u001b[0m\u001b[0;34m[\u001b[0m\u001b[0;34m\"COUNTRYAFF\"\u001b[0m\u001b[0;34m]\u001b[0m \u001b[0;34m==\u001b[0m \u001b[0;34m\"Kyrgyzstan\"\u001b[0m\u001b[0;34m]\u001b[0m\u001b[0;34m\u001b[0m\u001b[0;34m\u001b[0m\u001b[0m\n\u001b[0m",
      "\u001b[0;31mNameError\u001b[0m: name 'affiliations' is not defined"
     ]
    }
   ],
   "source": [
    "affiliations[affiliations[\"COUNTRYAFF\"] == \"Kyrgyzstan\"]"
   ]
  },
  {
   "cell_type": "code",
   "execution_count": null,
   "metadata": {},
   "outputs": [],
   "source": []
  },
  {
   "cell_type": "code",
   "execution_count": null,
   "metadata": {},
   "outputs": [],
   "source": []
  }
 ],
 "metadata": {
  "kernelspec": {
   "display_name": "Python 3",
   "language": "python",
   "name": "python3"
  },
  "language_info": {
   "codemirror_mode": {
    "name": "ipython",
    "version": 3
   },
   "file_extension": ".py",
   "mimetype": "text/x-python",
   "name": "python",
   "nbconvert_exporter": "python",
   "pygments_lexer": "ipython3",
   "version": "3.10.6"
  },
  "orig_nbformat": 4
 },
 "nbformat": 4,
 "nbformat_minor": 2
}
