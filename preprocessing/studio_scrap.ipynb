{
 "cells": [
  {
   "cell_type": "code",
   "execution_count": null,
   "metadata": {},
   "outputs": [],
   "source": [
    "import requests\n",
    "from bs4 import BeautifulSoup\n",
    "import pandas as pd\n",
    "\n",
    "from pathlib import Path\n",
    "data = Path(\"../data\")\n",
    "plot_path = data / \"plots\"\n",
    "map_path = data / \"graph3_map\"\n",
    "stat_path = map_path / \"stats\""
   ]
  },
  {
   "cell_type": "raw",
   "metadata": {},
   "source": [
    "# Get the list of all the studios\n",
    "url = \"https://myanimelist.net/anime/producer\"\n",
    "r = requests.get(url)\n",
    "soup = BeautifulSoup(r.content, \"html.parser\")\n",
    "\n",
    "\n",
    "studio_list = soup.find_all(\"div\", {\"class\": \"genre-list al\"})\n",
    "# Get only the <a> tags\n",
    "studio_list = [x.find_all(\"a\")[0] for x in studio_list]\n",
    "studio_list, len(studio_list)"
   ]
  },
  {
   "cell_type": "raw",
   "metadata": {},
   "source": [
    "# Get the studio id and name\n",
    "studio_id = []\n",
    "studio_name = []\n",
    "for studio in studio_list:\n",
    "    studio_id.append(studio[\"href\"].split(\"/\")[3])\n",
    "    # The studio name is of the form STUDIO_NAME (NUM_ANIMES). Get only the STUDIO_NAME\n",
    "    studio_name.append(studio.text.split(\"(\")[0].strip())\n",
    "\n",
    "# Get the studio logo\n",
    "studio_logo = []\n",
    "for studio in studio_id:\n",
    "    studio_logo.append(f\"https://cdn.myanimelist.net/images/company/{studio}.png\")"
   ]
  },
  {
   "cell_type": "raw",
   "metadata": {},
   "source": [
    "# Create the dataframe\n",
    "studios = pd.DataFrame({\"id\": studio_id, \"studio\": studio_name, \"logo_url\": studio_logo})\n",
    "studios.to_csv(data / \"studios.csv\", index=False)"
   ]
  },
  {
   "cell_type": "raw",
   "metadata": {},
   "source": [
    "# Display the studio logo of Madhouse\n",
    "from IPython.display import Image\n",
    "Image(url=studios[studios[\"studio\"] == \"Topcraft\"][\"logo_url\"].values[0])"
   ]
  },
  {
   "cell_type": "raw",
   "metadata": {},
   "source": [
    "# Sort studio_name by the alphabetical order IF THE NAME WERE ALL LOWERCASE\n",
    "studios_mal = sorted(studio_name, key=lambda x: x.lower())\n",
    "\n",
    "with open(data / \"studios_mal.txt\", \"w\") as f:\n",
    "    for studio in studios_mal:\n",
    "        f.write(studio + \"\\n\")"
   ]
  },
  {
   "cell_type": "raw",
   "metadata": {},
   "source": [
    "studio_num_animes = pd.read_csv(stat_path / \"studio_num_animes.csv\")\n",
    "\n",
    "# Sort studios_num_animes[\"studio\"] by the alphabetical order IF THE NAME WERE ALL LOWERCASE\n",
    "studios_db = sorted(studio_num_animes[\"studio\"], key=lambda x: x.lower())\n",
    "\n",
    "# Write the list of studios in a file\n",
    "with open(data / \"studios_db.txt\", \"w\") as f:\n",
    "    for studio in studios_db:\n",
    "        f.write(f\"{studio}\\n\")"
   ]
  },
  {
   "attachments": {},
   "cell_type": "markdown",
   "metadata": {},
   "source": [
    "# Not enough matching animes"
   ]
  },
  {
   "cell_type": "raw",
   "metadata": {},
   "source": [
    "max_index = 2762\n",
    "\n",
    "# Send a request to the studio page to get the name of the studio, and add to studio_logo_missing the url of the logo\n",
    "studio_id = list(range(max_index + 1))\n",
    "studio_en = []\n",
    "studio_ja = []\n",
    "studio_logo = []\n",
    "\n",
    "for id in studio_id:\n",
    "    en_name = \"\" # English name\n",
    "    ja_name = \"\" # Japanese name\n",
    "    logo_url = f\"https://cdn.myanimelist.net/images/company/{id}.png\" # Logo url\n",
    "    \n",
    "    url = f\"https://myanimelist.net/anime/producer/{id}\"\n",
    "    r = requests.get(url)\n",
    "    soup = BeautifulSoup(r.content, \"html.parser\")\n",
    "    \n",
    "    # Find the h1 tag with id=\"contentWrapper\"\n",
    "    h1_tag = soup.select_one('div#contentWrapper h1')\n",
    "    if h1_tag is not None:\n",
    "        en_name = h1_tag.text.strip()\n",
    "\n",
    "    # Find a span with class=\"dark_text\" and text=\"Japanese:\"\n",
    "    span = soup.find_all(\"span\", {\"class\": \"dark_text\"}, text=\"Japanese:\")\n",
    "    if span:\n",
    "        ja_name = span[0].next_sibling.strip()\n",
    "\n",
    "    studio_en.append(en_name)\n",
    "    studio_ja.append(ja_name)    \n",
    "    studio_logo.append(logo_url)\n",
    "    print(id, en_name, ja_name, logo_url)"
   ]
  },
  {
   "cell_type": "code",
   "execution_count": null,
   "metadata": {},
   "outputs": [],
   "source": [
    "studios_mal = pd.read_csv(data / \"studios_mal.csv\")\n",
    "studios_mal_clean = studios_mal[studios_mal.studio_en != \"404 Not Found\"]\n",
    "\n",
    "# write \n",
    "studios_mal_clean.to_csv(data / \"studios_mal_clean.csv\", index=False)"
   ]
  },
  {
   "cell_type": "code",
   "execution_count": null,
   "metadata": {},
   "outputs": [],
   "source": [
    "# Remove all the studios with studio_en == \"404 Not Found\"\n",
    "studios = studios[studios.studio_en != \"404 Not Found\"]"
   ]
  }
 ],
 "metadata": {
  "kernelspec": {
   "display_name": "Python 3",
   "language": "python",
   "name": "python3"
  },
  "language_info": {
   "codemirror_mode": {
    "name": "ipython",
    "version": 3
   },
   "file_extension": ".py",
   "mimetype": "text/x-python",
   "name": "python",
   "nbconvert_exporter": "python",
   "pygments_lexer": "ipython3",
   "version": "3.10.6"
  },
  "orig_nbformat": 4
 },
 "nbformat": 4,
 "nbformat_minor": 2
}
