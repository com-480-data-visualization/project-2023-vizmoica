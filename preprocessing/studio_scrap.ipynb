{
 "cells": [
  {
   "cell_type": "code",
   "execution_count": 6,
   "metadata": {},
   "outputs": [],
   "source": [
    "import requests\n",
    "from bs4 import BeautifulSoup\n",
    "import pandas as pd\n",
    "\n",
    "from pathlib import Path\n",
    "data = Path(\"../data\")\n",
    "studio_path = data / \"studios\""
   ]
  },
  {
   "cell_type": "raw",
   "metadata": {},
   "source": [
    "max_index = 2762\n",
    "\n",
    "# Send a request to the studio page to get the name of the studio, and add to studio_logo_missing the url of the logo\n",
    "studio_id = list(range(max_index + 1))\n",
    "studio_en = []\n",
    "studio_ja = []\n",
    "studio_logo = []\n",
    "\n",
    "for id in studio_id:\n",
    "    en_name = \"\" # English name\n",
    "    ja_name = \"\" # Japanese name\n",
    "    logo_url = f\"https://cdn.myanimelist.net/images/company/{id}.png\" # Logo url\n",
    "    \n",
    "    url = f\"https://myanimelist.net/anime/producer/{id}\"\n",
    "    r = requests.get(url)\n",
    "    soup = BeautifulSoup(r.content, \"html.parser\")\n",
    "    \n",
    "    # Find the h1 tag with id=\"contentWrapper\"\n",
    "    h1_tag = soup.select_one('div#contentWrapper h1')\n",
    "    if h1_tag is not None:\n",
    "        en_name = h1_tag.text.strip()\n",
    "\n",
    "    # Find a span with class=\"dark_text\" and text=\"Japanese:\"\n",
    "    span = soup.find_all(\"span\", {\"class\": \"dark_text\"}, text=\"Japanese:\")\n",
    "    if span:\n",
    "        ja_name = span[0].next_sibling.strip()\n",
    "\n",
    "    studio_en.append(en_name)\n",
    "    studio_ja.append(ja_name)    \n",
    "    studio_logo.append(logo_url)\n",
    "    print(id, en_name, ja_name, logo_url)"
   ]
  },
  {
   "cell_type": "raw",
   "metadata": {},
   "source": [
    "# Create a dataframe with the data\n",
    "studios_mal = pd.DataFrame({\n",
    "    \"id\": studio_id,\n",
    "    \"studio_en\": studio_en,\n",
    "    \"studio_ja\": studio_ja,\n",
    "    \"logo_url\": studio_logo\n",
    "})"
   ]
  },
  {
   "attachments": {},
   "cell_type": "markdown",
   "metadata": {},
   "source": [
    "Cleaning: some ids do not map to studios, so scraping the HTML page returns a 404 error"
   ]
  },
  {
   "cell_type": "code",
   "execution_count": 7,
   "metadata": {},
   "outputs": [
    {
     "name": "stdout",
     "output_type": "stream",
     "text": [
      "2231\n"
     ]
    }
   ],
   "source": [
    "studios_mal = pd.read_csv(studio_path / \"studios_mal.csv\")\n",
    "\n",
    "studios_mal_clean = studios_mal[studios_mal.studio_en != \"404 Not Found\"]\n",
    "studios_mal_clean.to_csv(studio_path / \"studios_mal_clean.csv\", index=False)\n",
    "print(len(studios_mal_clean))"
   ]
  },
  {
   "cell_type": "code",
   "execution_count": 11,
   "metadata": {},
   "outputs": [
    {
     "data": {
      "text/html": [
       "<img src=\"https://cdn.myanimelist.net/images/company/155.png\"/>"
      ],
      "text/plain": [
       "<IPython.core.display.Image object>"
      ]
     },
     "execution_count": 11,
     "metadata": {},
     "output_type": "execute_result"
    }
   ],
   "source": [
    "# Display the studio logo of animate Film\n",
    "from IPython.display import Image\n",
    "Image(url=studios_mal_clean[studios_mal_clean[\"studio_en\"] == \"animate Film\"][\"logo_url\"].values[0])"
   ]
  },
  {
   "cell_type": "code",
   "execution_count": null,
   "metadata": {},
   "outputs": [],
   "source": []
  }
 ],
 "metadata": {
  "kernelspec": {
   "display_name": "Python 3",
   "language": "python",
   "name": "python3"
  },
  "language_info": {
   "codemirror_mode": {
    "name": "ipython",
    "version": 3
   },
   "file_extension": ".py",
   "mimetype": "text/x-python",
   "name": "python",
   "nbconvert_exporter": "python",
   "pygments_lexer": "ipython3",
   "version": "3.10.6"
  },
  "orig_nbformat": 4
 },
 "nbformat": 4,
 "nbformat_minor": 2
}
