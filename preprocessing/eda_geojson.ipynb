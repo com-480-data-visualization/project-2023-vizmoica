{
 "cells": [
  {
   "cell_type": "code",
   "execution_count": 1,
   "metadata": {},
   "outputs": [],
   "source": [
    "import pandas as pd\n",
    "import numpy as np\n",
    "import matplotlib.pyplot as plt\n",
    "import seaborn as sns\n",
    "\n",
    "from pathlib import Path\n",
    "data = Path(\"../data\")\n",
    "plot_path = data / \"plots\"\n",
    "map_path = data / \"graph3_map\"\n",
    "stat_path = map_path / \"stats\"\n",
    "geojson_path = map_path / \"geojson\"\n",
    "\n",
    "import json"
   ]
  },
  {
   "attachments": {},
   "cell_type": "markdown",
   "metadata": {},
   "source": [
    "# Load geojson data\n"
   ]
  },
  {
   "cell_type": "code",
   "execution_count": 2,
   "metadata": {},
   "outputs": [
    {
     "data": {
      "text/plain": [
       "89        Afghanistan\n",
       "15            Albania\n",
       "156           Algeria\n",
       "152            Angola\n",
       "41          Argentina\n",
       "            ...      \n",
       "132    Western Sahara\n",
       "93              Yemen\n",
       "139            Zambia\n",
       "153          Zimbabwe\n",
       "158          eSwatini\n",
       "Name: country, Length: 179, dtype: object"
      ]
     },
     "execution_count": 2,
     "metadata": {},
     "output_type": "execute_result"
    }
   ],
   "source": [
    "# Load custom.geo.json\n",
    "with open(geojson_path / \"custom.geo.json\") as f:\n",
    "    geojson = json.load(f)\n",
    "\n",
    "\n",
    "# Each of the feature in \"features\" jas a \"properties\" fields, and inside of this field an \"admin\" fields. Put all these in a dataframe\n",
    "df_geojson = pd.DataFrame(\n",
    "    [\n",
    "        {\n",
    "            \"country\": feature[\"properties\"][\"admin\"],\n",
    "        }\n",
    "        for feature in geojson[\"features\"]\n",
    "    ]\n",
    ")\n",
    "df_geojson[\"country\"].sort_values()"
   ]
  },
  {
   "cell_type": "code",
   "execution_count": 3,
   "metadata": {},
   "outputs": [
    {
     "data": {
      "text/plain": [
       "0         Afghanistan\n",
       "2             Albania\n",
       "45            Algeria\n",
       "1              Angola\n",
       "6          Antarctica\n",
       "            ...      \n",
       "172         West Bank\n",
       "136    Western Sahara\n",
       "173             Yemen\n",
       "175            Zambia\n",
       "176          Zimbabwe\n",
       "Name: country, Length: 177, dtype: object"
      ]
     },
     "execution_count": 3,
     "metadata": {},
     "output_type": "execute_result"
    }
   ],
   "source": [
    "with open(geojson_path / \"countries.geo.json\") as f:\n",
    "    countries_geo_json = json.load(f)\n",
    "\n",
    "df_countries_geo_json = pd.DataFrame(\n",
    "    [\n",
    "        {\n",
    "            \"country\": feature[\"properties\"][\"name\"],\n",
    "        }\n",
    "        for feature in countries_geo_json[\"features\"]\n",
    "    ]\n",
    ")\n",
    "df_countries_geo_json[\"country\"].sort_values()"
   ]
  },
  {
   "cell_type": "code",
   "execution_count": null,
   "metadata": {},
   "outputs": [],
   "source": [
    "with open(geojson_path / \"countries.geojson\") as f:\n",
    "    countries_geojson = json.load(f)"
   ]
  },
  {
   "cell_type": "code",
   "execution_count": null,
   "metadata": {},
   "outputs": [
    {
     "data": {
      "text/html": [
       "<div>\n",
       "<style scoped>\n",
       "    .dataframe tbody tr th:only-of-type {\n",
       "        vertical-align: middle;\n",
       "    }\n",
       "\n",
       "    .dataframe tbody tr th {\n",
       "        vertical-align: top;\n",
       "    }\n",
       "\n",
       "    .dataframe thead th {\n",
       "        text-align: right;\n",
       "    }\n",
       "</style>\n",
       "<table border=\"1\" class=\"dataframe\">\n",
       "  <thead>\n",
       "    <tr style=\"text-align: right;\">\n",
       "      <th></th>\n",
       "      <th>type</th>\n",
       "      <th>features</th>\n",
       "    </tr>\n",
       "  </thead>\n",
       "  <tbody>\n",
       "    <tr>\n",
       "      <th>0</th>\n",
       "      <td>FeatureCollection</td>\n",
       "      <td>{'type': 'Feature', 'properties': {'featurecla...</td>\n",
       "    </tr>\n",
       "    <tr>\n",
       "      <th>1</th>\n",
       "      <td>FeatureCollection</td>\n",
       "      <td>{'type': 'Feature', 'properties': {'featurecla...</td>\n",
       "    </tr>\n",
       "    <tr>\n",
       "      <th>2</th>\n",
       "      <td>FeatureCollection</td>\n",
       "      <td>{'type': 'Feature', 'properties': {'featurecla...</td>\n",
       "    </tr>\n",
       "    <tr>\n",
       "      <th>3</th>\n",
       "      <td>FeatureCollection</td>\n",
       "      <td>{'type': 'Feature', 'properties': {'featurecla...</td>\n",
       "    </tr>\n",
       "    <tr>\n",
       "      <th>4</th>\n",
       "      <td>FeatureCollection</td>\n",
       "      <td>{'type': 'Feature', 'properties': {'featurecla...</td>\n",
       "    </tr>\n",
       "    <tr>\n",
       "      <th>...</th>\n",
       "      <td>...</td>\n",
       "      <td>...</td>\n",
       "    </tr>\n",
       "    <tr>\n",
       "      <th>174</th>\n",
       "      <td>FeatureCollection</td>\n",
       "      <td>{'type': 'Feature', 'properties': {'featurecla...</td>\n",
       "    </tr>\n",
       "    <tr>\n",
       "      <th>175</th>\n",
       "      <td>FeatureCollection</td>\n",
       "      <td>{'type': 'Feature', 'properties': {'sovereignt...</td>\n",
       "    </tr>\n",
       "    <tr>\n",
       "      <th>176</th>\n",
       "      <td>FeatureCollection</td>\n",
       "      <td>{'type': 'Feature', 'properties': {'sovereignt...</td>\n",
       "    </tr>\n",
       "    <tr>\n",
       "      <th>177</th>\n",
       "      <td>FeatureCollection</td>\n",
       "      <td>{'type': 'Feature', 'properties': {'sovereignt...</td>\n",
       "    </tr>\n",
       "    <tr>\n",
       "      <th>178</th>\n",
       "      <td>FeatureCollection</td>\n",
       "      <td>{'type': 'Feature', 'properties': {'sovereignt...</td>\n",
       "    </tr>\n",
       "  </tbody>\n",
       "</table>\n",
       "<p>179 rows × 2 columns</p>\n",
       "</div>"
      ],
      "text/plain": [
       "                  type                                           features\n",
       "0    FeatureCollection  {'type': 'Feature', 'properties': {'featurecla...\n",
       "1    FeatureCollection  {'type': 'Feature', 'properties': {'featurecla...\n",
       "2    FeatureCollection  {'type': 'Feature', 'properties': {'featurecla...\n",
       "3    FeatureCollection  {'type': 'Feature', 'properties': {'featurecla...\n",
       "4    FeatureCollection  {'type': 'Feature', 'properties': {'featurecla...\n",
       "..                 ...                                                ...\n",
       "174  FeatureCollection  {'type': 'Feature', 'properties': {'featurecla...\n",
       "175  FeatureCollection  {'type': 'Feature', 'properties': {'sovereignt...\n",
       "176  FeatureCollection  {'type': 'Feature', 'properties': {'sovereignt...\n",
       "177  FeatureCollection  {'type': 'Feature', 'properties': {'sovereignt...\n",
       "178  FeatureCollection  {'type': 'Feature', 'properties': {'sovereignt...\n",
       "\n",
       "[179 rows x 2 columns]"
      ]
     },
     "metadata": {},
     "output_type": "display_data"
    }
   ],
   "source": [
    "geojson = pd.read_json(data / \"map/custom.geo.json\")\n",
    "geojson\n",
    "\n",
    "# All the \"admin\" fields\n",
    "[\"country\"].sort_values()"
   ]
  },
  {
   "cell_type": "raw",
   "metadata": {},
   "source": [
    "df_ltc_clean = pd.read_csv(data / \"location_to_country_clean.csv\")\n",
    "\n",
    "df_ltc_clean.loc[df_ltc_clean[\"country\"] == \"Bahamas\", \"country\"] = \"The Bahamas\"\n",
    "df_ltc_clean.loc[df_ltc_clean[\"country\"] == \"Brunei Darussalam\", \"country\"] = \"Brunei\"\n",
    "df_ltc_clean.loc[df_ltc_clean[\"country\"] == \"Congo\", \"country\"] = \"Republic of the Congo\"\n",
    "df_ltc_clean.loc[df_ltc_clean[\"country\"] == \"Congo DRC\", \"country\"] = \"Democratic Republic of the Congo\"\n",
    "df_ltc_clean.loc[df_ltc_clean[\"country\"] == \"Côte d'Ivoire\", \"country\"] = \"Ivory Coast\"\n",
    "df_ltc_clean.loc[df_ltc_clean[\"country\"] == \"Czech Republic\", \"country\"] = \"Czechia\"\n",
    "df_ltc_clean.loc[df_ltc_clean[\"country\"] == \"Russian Federation\", \"country\"] = \"Russia\"\n",
    "df_ltc_clean.loc[df_ltc_clean[\"country\"] == \"Serbia\", \"country\"] = \"Republic of Serbia\"\n",
    "df_ltc_clean.loc[df_ltc_clean[\"country\"] == \"Tanzania\", \"country\"] = \"United Republic of Tanzania\"\n",
    "df_ltc_clean.loc[df_ltc_clean[\"country\"] == \"United States\", \"country\"] = \"United States of America\"\n",
    "\n",
    "df_ltc_clean.sort_values([\"country\", \"location\"], ascending=[True, True]).to_csv(\n",
    "    data / \"location_to_country_clean.csv\", index=False\n",
    ")"
   ]
  }
 ],
 "metadata": {
  "kernelspec": {
   "display_name": "Python 3",
   "language": "python",
   "name": "python3"
  },
  "language_info": {
   "codemirror_mode": {
    "name": "ipython",
    "version": 3
   },
   "file_extension": ".py",
   "mimetype": "text/x-python",
   "name": "python",
   "nbconvert_exporter": "python",
   "pygments_lexer": "ipython3",
   "version": "3.10.6"
  },
  "orig_nbformat": 4
 },
 "nbformat": 4,
 "nbformat_minor": 2
}
