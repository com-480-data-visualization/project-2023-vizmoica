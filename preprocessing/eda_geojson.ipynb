{
 "cells": [
  {
   "cell_type": "code",
   "execution_count": 1,
   "metadata": {},
   "outputs": [],
   "source": [
    "import pandas as pd\n",
    "import numpy as np\n",
    "import matplotlib.pyplot as plt\n",
    "import seaborn as sns\n",
    "\n",
    "from pathlib import Path\n",
    "data = Path(\"../data\")\n",
    "plot_path = data / \"plots\"\n",
    "map_path = data / \"graph3_map\"\n",
    "stat_path = map_path / \"stats\"\n",
    "geojson_path = map_path / \"geojson\"\n",
    "\n",
    "import json"
   ]
  },
  {
   "attachments": {},
   "cell_type": "markdown",
   "metadata": {},
   "source": [
    "# Load geojson data\n",
    "\n",
    "- `custom.geo.json` contains less GeoJSON data than `custom50.json` but stores for each feature/country its name in Japanese (the `name_ja` property), so we need to use it\n",
    "- However there are a few inconsistencies in the names (`admin` property) between the two files that we first need to fix"
   ]
  },
  {
   "cell_type": "code",
   "execution_count": 2,
   "metadata": {},
   "outputs": [],
   "source": [
    "# Load custom.geo.json\n",
    "with open(geojson_path / \"custom.geo.json\") as f:\n",
    "    custom = json.load(f)\n",
    "df_custom = pd.DataFrame(\n",
    "    [\n",
    "        {\n",
    "            \"country\": feature[\"properties\"][\"admin\"],\n",
    "            \"country_aff\": feature[\"properties\"][\"sovereignt\"],\n",
    "            \"name_ja\": feature[\"properties\"][\"name_ja\"]\n",
    "        }\n",
    "        for feature in custom[\"features\"]\n",
    "    ]\n",
    ")"
   ]
  },
  {
   "cell_type": "code",
   "execution_count": 3,
   "metadata": {},
   "outputs": [],
   "source": [
    "# Load custom50.json\n",
    "with open(geojson_path / \"custom50.json\") as f:\n",
    "    custom50 = json.load(f)\n",
    "\n",
    "df_custom50 = pd.DataFrame(\n",
    "    [\n",
    "        {\n",
    "            \"country\": feature[\"properties\"][\"admin\"],\n",
    "            \"country_aff\": feature[\"properties\"][\"sovereignt\"],\n",
    "        }\n",
    "        for feature in custom50[\"features\"]\n",
    "    ]\n",
    ")"
   ]
  },
  {
   "attachments": {},
   "cell_type": "markdown",
   "metadata": {},
   "source": [
    "As mentioned above, `custom50.json` contains more data than `custom.geo.json`:"
   ]
  },
  {
   "cell_type": "code",
   "execution_count": 4,
   "metadata": {},
   "outputs": [
    {
     "data": {
      "text/plain": [
       "{'Aland',\n",
       " 'American Samoa',\n",
       " 'Andorra',\n",
       " 'Anguilla',\n",
       " 'Antarctica',\n",
       " 'Antigua and Barbuda',\n",
       " 'Aruba',\n",
       " 'Ashmore and Cartier Islands',\n",
       " 'Bahrain',\n",
       " 'Barbados',\n",
       " 'Bermuda',\n",
       " 'British Indian Ocean Territory',\n",
       " 'British Virgin Islands',\n",
       " 'Cape Verde',\n",
       " 'Cayman Islands',\n",
       " 'Comoros',\n",
       " 'Cook Islands',\n",
       " 'Curaçao',\n",
       " 'Czech Republic',\n",
       " 'Dominica',\n",
       " 'Faroe Islands',\n",
       " 'Federated States of Micronesia',\n",
       " 'French Polynesia',\n",
       " 'French Southern and Antarctic Lands',\n",
       " 'Grenada',\n",
       " 'Guam',\n",
       " 'Guernsey',\n",
       " 'Guinea Bissau',\n",
       " 'Heard Island and McDonald Islands',\n",
       " 'Hong Kong S.A.R.',\n",
       " 'Indian Ocean Territories',\n",
       " 'Isle of Man',\n",
       " 'Jersey',\n",
       " 'Kiribati',\n",
       " 'Liechtenstein',\n",
       " 'Macao S.A.R',\n",
       " 'Macedonia',\n",
       " 'Maldives',\n",
       " 'Malta',\n",
       " 'Marshall Islands',\n",
       " 'Mauritius',\n",
       " 'Monaco',\n",
       " 'Montserrat',\n",
       " 'Nauru',\n",
       " 'Niue',\n",
       " 'Norfolk Island',\n",
       " 'Northern Mariana Islands',\n",
       " 'Palau',\n",
       " 'Pitcairn Islands',\n",
       " 'Republic of Congo',\n",
       " 'Saint Barthelemy',\n",
       " 'Saint Helena',\n",
       " 'Saint Kitts and Nevis',\n",
       " 'Saint Lucia',\n",
       " 'Saint Martin',\n",
       " 'Saint Pierre and Miquelon',\n",
       " 'Saint Vincent and the Grenadines',\n",
       " 'Samoa',\n",
       " 'San Marino',\n",
       " 'Sao Tome and Principe',\n",
       " 'Seychelles',\n",
       " 'Siachen Glacier',\n",
       " 'Singapore',\n",
       " 'Sint Maarten',\n",
       " 'South Georgia and South Sandwich Islands',\n",
       " 'Swaziland',\n",
       " 'Tonga',\n",
       " 'Turks and Caicos Islands',\n",
       " 'United States Virgin Islands',\n",
       " 'Vatican',\n",
       " 'Wallis and Futuna'}"
      ]
     },
     "execution_count": 4,
     "metadata": {},
     "output_type": "execute_result"
    }
   ],
   "source": [
    "# The countries that are in custom50 but not in custom\n",
    "set(df_custom50[\"country\"]) - set(df_custom[\"country\"])"
   ]
  },
  {
   "cell_type": "code",
   "execution_count": 5,
   "metadata": {},
   "outputs": [
    {
     "data": {
      "text/plain": [
       "{'Czechia',\n",
       " 'Guinea-Bissau',\n",
       " 'North Macedonia',\n",
       " 'Republic of the Congo',\n",
       " 'eSwatini'}"
      ]
     },
     "execution_count": 5,
     "metadata": {},
     "output_type": "execute_result"
    }
   ],
   "source": [
    "# The countries that are in custom but not in custom50\n",
    "set(df_custom[\"country\"]) - set(df_custom50[\"country\"])"
   ]
  },
  {
   "attachments": {},
   "cell_type": "markdown",
   "metadata": {},
   "source": [
    "Those correspond to inconsistencies. We fix them by applying the following mapping:\n",
    "- Czechia -> Czech Republic\n",
    "- Guinea-Bissau -> Guinea Bissau\n",
    "- North Macedonia -> Macedonia\n",
    "- Republic of the Congo -> Republic of Congo\n",
    "- eSwatini -> Swaziland"
   ]
  },
  {
   "cell_type": "code",
   "execution_count": 6,
   "metadata": {},
   "outputs": [],
   "source": [
    "custom_to_custom50 = {\n",
    "    \"Czechia\": \"Czech Republic\",\n",
    "    \"Guinea-Bissau\": \"Guinea Bissau\",\n",
    "    \"North Macedonia\": \"Macedonia\",\n",
    "    \"Republic of the Congo\": \"Republic of Congo\",\n",
    "    \"eSwatini\": \"Swaziland\"\n",
    "}\n",
    "\n",
    "# Modify the custom json file by changing the all the \"admin\" and \"sovereignt\" fields that need it according to the mapping defined in the markdown cell just above\n",
    "df_custom[\"country\"] = df_custom[\"country\"].apply(lambda x: custom_to_custom50[x] if x in custom_to_custom50 else x)\n",
    "df_custom[\"country_aff\"] = df_custom[\"country_aff\"].apply(lambda x: custom_to_custom50[x] if x in custom_to_custom50 else x)\n",
    "\n",
    "# Now the countries that are in custom are a subset of those in custom50\n",
    "assert set(df_custom[\"country\"]).issubset(set(df_custom50[\"country\"]))"
   ]
  },
  {
   "attachments": {},
   "cell_type": "markdown",
   "metadata": {},
   "source": [
    "Now we can \"join\" `custom` to `custom50` by adding the `name_ja` field to `custom50` that correspond to the `name_ja` field of `custom` (based on `admin`)\n"
   ]
  },
  {
   "cell_type": "code",
   "execution_count": 7,
   "metadata": {},
   "outputs": [],
   "source": [
    "for feature in custom50[\"features\"]:\n",
    "    if feature[\"properties\"][\"admin\"] in df_custom[\"country\"].values:\n",
    "        feature[\"properties\"][\"name_ja\"] = df_custom[df_custom[\"country\"] == feature[\"properties\"][\"admin\"]][\"name_ja\"].values[0]\n",
    "    else:\n",
    "        feature[\"properties\"][\"name_ja\"] = \"\"\n",
    "\n",
    "# Contains now the name_ja field for each feature/country\n",
    "with open(geojson_path / \"custom50_ja.json\", \"w\") as f:\n",
    "    json.dump(custom50, f)"
   ]
  }
 ],
 "metadata": {
  "kernelspec": {
   "display_name": "Python 3",
   "language": "python",
   "name": "python3"
  },
  "language_info": {
   "codemirror_mode": {
    "name": "ipython",
    "version": 3
   },
   "file_extension": ".py",
   "mimetype": "text/x-python",
   "name": "python",
   "nbconvert_exporter": "python",
   "pygments_lexer": "ipython3",
   "version": "3.10.6"
  },
  "orig_nbformat": 4
 },
 "nbformat": 4,
 "nbformat_minor": 2
}
