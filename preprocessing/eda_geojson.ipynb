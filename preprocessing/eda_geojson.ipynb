{
 "cells": [
  {
   "cell_type": "code",
   "execution_count": 1,
   "metadata": {},
   "outputs": [],
   "source": [
    "import pandas as pd\n",
    "import numpy as np\n",
    "import matplotlib.pyplot as plt\n",
    "import seaborn as sns\n",
    "\n",
    "from pathlib import Path\n",
    "data = Path(\"../data\")\n",
    "plot_path = data / \"plots\"\n",
    "map_path = data / \"graph3_map\"\n",
    "stat_path = map_path / \"stats\"\n",
    "geojson_path = map_path / \"geojson\"\n",
    "\n",
    "import json"
   ]
  },
  {
   "attachments": {},
   "cell_type": "markdown",
   "metadata": {},
   "source": [
    "# Load geojson data\n",
    "\n",
    "- `custom.geo.json` contains less GeoJSON data than `custom50.json` but stores for each feature/country its name in Japanese (the `name_ja` property), so we need to use it\n",
    "- However there are a few inconsistencies in the names (`admin` property) between the two files that we first need to fix"
   ]
  },
  {
   "cell_type": "code",
   "execution_count": 2,
   "metadata": {},
   "outputs": [],
   "source": [
    "# Load custom.geo.json\n",
    "with open(geojson_path / \"custom.geo.json\") as f:\n",
    "    custom = json.load(f)\n",
    "df_custom = pd.DataFrame(\n",
    "    [\n",
    "        {\n",
    "            \"country\": feature[\"properties\"][\"admin\"],\n",
    "            \"country_aff\": feature[\"properties\"][\"sovereignt\"],\n",
    "            \"name_ja\": feature[\"properties\"][\"name_ja\"]\n",
    "        }\n",
    "        for feature in custom[\"features\"]\n",
    "    ]\n",
    ")"
   ]
  },
  {
   "cell_type": "code",
   "execution_count": 3,
   "metadata": {},
   "outputs": [],
   "source": [
    "# Load custom50.json\n",
    "with open(geojson_path / \"custom50.json\") as f:\n",
    "    custom50 = json.load(f)\n",
    "\n",
    "df_custom50 = pd.DataFrame(\n",
    "    [\n",
    "        {\n",
    "            \"country\": feature[\"properties\"][\"admin\"],\n",
    "            \"country_aff\": feature[\"properties\"][\"sovereignt\"],\n",
    "        }\n",
    "        for feature in custom50[\"features\"]\n",
    "    ]\n",
    ")"
   ]
  },
  {
   "attachments": {},
   "cell_type": "markdown",
   "metadata": {},
   "source": [
    "As mentioned above, `custom50.json` contains more data than `custom.geo.json`:"
   ]
  },
  {
   "cell_type": "code",
   "execution_count": 4,
   "metadata": {},
   "outputs": [
    {
     "data": {
      "text/plain": [
       "{'Aland',\n",
       " 'American Samoa',\n",
       " 'Andorra',\n",
       " 'Anguilla',\n",
       " 'Antarctica',\n",
       " 'Antigua and Barbuda',\n",
       " 'Aruba',\n",
       " 'Ashmore and Cartier Islands',\n",
       " 'Bahrain',\n",
       " 'Barbados',\n",
       " 'Bermuda',\n",
       " 'British Indian Ocean Territory',\n",
       " 'British Virgin Islands',\n",
       " 'Cape Verde',\n",
       " 'Cayman Islands',\n",
       " 'Comoros',\n",
       " 'Cook Islands',\n",
       " 'Curaçao',\n",
       " 'Czech Republic',\n",
       " 'Dominica',\n",
       " 'Faroe Islands',\n",
       " 'Federated States of Micronesia',\n",
       " 'French Polynesia',\n",
       " 'French Southern and Antarctic Lands',\n",
       " 'Grenada',\n",
       " 'Guam',\n",
       " 'Guernsey',\n",
       " 'Guinea Bissau',\n",
       " 'Heard Island and McDonald Islands',\n",
       " 'Hong Kong S.A.R.',\n",
       " 'Indian Ocean Territories',\n",
       " 'Isle of Man',\n",
       " 'Jersey',\n",
       " 'Kiribati',\n",
       " 'Liechtenstein',\n",
       " 'Macao S.A.R',\n",
       " 'Macedonia',\n",
       " 'Maldives',\n",
       " 'Malta',\n",
       " 'Marshall Islands',\n",
       " 'Mauritius',\n",
       " 'Monaco',\n",
       " 'Montserrat',\n",
       " 'Nauru',\n",
       " 'Niue',\n",
       " 'Norfolk Island',\n",
       " 'Northern Mariana Islands',\n",
       " 'Palau',\n",
       " 'Pitcairn Islands',\n",
       " 'Republic of Congo',\n",
       " 'Saint Barthelemy',\n",
       " 'Saint Helena',\n",
       " 'Saint Kitts and Nevis',\n",
       " 'Saint Lucia',\n",
       " 'Saint Martin',\n",
       " 'Saint Pierre and Miquelon',\n",
       " 'Saint Vincent and the Grenadines',\n",
       " 'Samoa',\n",
       " 'San Marino',\n",
       " 'Sao Tome and Principe',\n",
       " 'Seychelles',\n",
       " 'Siachen Glacier',\n",
       " 'Singapore',\n",
       " 'Sint Maarten',\n",
       " 'South Georgia and South Sandwich Islands',\n",
       " 'Swaziland',\n",
       " 'Tonga',\n",
       " 'Turks and Caicos Islands',\n",
       " 'United States Virgin Islands',\n",
       " 'Vatican',\n",
       " 'Wallis and Futuna'}"
      ]
     },
     "execution_count": 4,
     "metadata": {},
     "output_type": "execute_result"
    }
   ],
   "source": [
    "# The countries that are in custom50 but not in custom\n",
    "set(df_custom50[\"country\"]) - set(df_custom[\"country\"])"
   ]
  },
  {
   "cell_type": "code",
   "execution_count": 5,
   "metadata": {},
   "outputs": [
    {
     "data": {
      "text/plain": [
       "{'Czechia',\n",
       " 'Guinea-Bissau',\n",
       " 'North Macedonia',\n",
       " 'Republic of the Congo',\n",
       " 'eSwatini'}"
      ]
     },
     "execution_count": 5,
     "metadata": {},
     "output_type": "execute_result"
    }
   ],
   "source": [
    "# The countries that are in custom but not in custom50\n",
    "set(df_custom[\"country\"]) - set(df_custom50[\"country\"])"
   ]
  },
  {
   "attachments": {},
   "cell_type": "markdown",
   "metadata": {},
   "source": [
    "Those correspond to inconsistencies. We fix them by applying the following mapping:\n",
    "- Czechia -> Czech Republic\n",
    "- Guinea-Bissau -> Guinea Bissau\n",
    "- North Macedonia -> Macedonia\n",
    "- Republic of the Congo -> Republic of Congo\n",
    "- eSwatini -> Swaziland"
   ]
  },
  {
   "cell_type": "code",
   "execution_count": 6,
   "metadata": {},
   "outputs": [],
   "source": [
    "custom_to_custom50 = {\n",
    "    \"Czechia\": \"Czech Republic\",\n",
    "    \"Guinea-Bissau\": \"Guinea Bissau\",\n",
    "    \"North Macedonia\": \"Macedonia\",\n",
    "    \"Republic of the Congo\": \"Republic of Congo\",\n",
    "    \"eSwatini\": \"Swaziland\"\n",
    "}\n",
    "\n",
    "# Modify the custom json file by changing the all the \"admin\" and \"sovereignt\" fields that need it according to the mapping defined in the markdown cell just above\n",
    "df_custom[\"country\"] = df_custom[\"country\"].apply(lambda x: custom_to_custom50[x] if x in custom_to_custom50 else x)\n",
    "df_custom[\"country_aff\"] = df_custom[\"country_aff\"].apply(lambda x: custom_to_custom50[x] if x in custom_to_custom50 else x)\n",
    "\n",
    "# Now the countries that are in custom are a subset of those in custom50\n",
    "assert set(df_custom[\"country\"]).issubset(set(df_custom50[\"country\"]))"
   ]
  },
  {
   "attachments": {},
   "cell_type": "markdown",
   "metadata": {},
   "source": [
    "Now we can \"join\" `custom` to `custom50` by adding the `name_ja` field to `custom50` that correspond to the `name_ja` field of `custom` (based on `admin`)\n"
   ]
  },
  {
   "cell_type": "code",
   "execution_count": 7,
   "metadata": {},
   "outputs": [],
   "source": [
    "for feature in custom50[\"features\"]:\n",
    "    if feature[\"properties\"][\"admin\"] in df_custom[\"country\"].values:\n",
    "        feature[\"properties\"][\"name_ja\"] = df_custom[df_custom[\"country\"] == feature[\"properties\"][\"admin\"]][\"name_ja\"].values[0]\n",
    "    else:\n",
    "        feature[\"properties\"][\"name_ja\"] = \"\"\n",
    "\n",
    "# Contains now the name_ja field for each feature/country\n",
    "with open(geojson_path / \"custom50_processed.json\", \"w\") as f:\n",
    "    json.dump(custom50, f)"
   ]
  },
  {
   "attachments": {},
   "cell_type": "markdown",
   "metadata": {},
   "source": [
    "# Join GeoJSON data with stats data\n",
    "- There are inconsistencies between the names found by the geomapping and the names in the GeoJSON data that we need to fix\n",
    "- Some countries are missing in the GeoJSON data so we need to add them"
   ]
  },
  {
   "cell_type": "code",
   "execution_count": 8,
   "metadata": {},
   "outputs": [],
   "source": [
    "df_countries = pd.read_csv(stat_path / \"country_num_users.csv\")\n",
    "df_countries[\"country\"].sort_values().to_csv(map_path / \"countries.csv\", index=False)"
   ]
  },
  {
   "cell_type": "code",
   "execution_count": 9,
   "metadata": {},
   "outputs": [
    {
     "data": {
      "text/plain": [
       "{'Bahamas',\n",
       " 'Bouvet Island',\n",
       " 'Brunei Darussalam',\n",
       " 'Cabo Verde',\n",
       " 'Canarias',\n",
       " 'Christmas Island',\n",
       " 'Congo',\n",
       " 'Congo DRC',\n",
       " 'Curacao',\n",
       " \"Côte d'Ivoire\",\n",
       " 'Eswatini',\n",
       " 'French Guiana',\n",
       " 'North Macedonia',\n",
       " 'Null Island',\n",
       " 'Palestinian Territory',\n",
       " 'Pitcairn',\n",
       " 'Russian Federation',\n",
       " 'Réunion',\n",
       " 'Serbia',\n",
       " 'Svalbard',\n",
       " 'Tanzania',\n",
       " 'US Virgin Islands',\n",
       " 'United States',\n",
       " 'Vatican City'}"
      ]
     },
     "execution_count": 9,
     "metadata": {},
     "output_type": "execute_result"
    }
   ],
   "source": [
    "# The countries that are in countries but not in custom50 (do not have geojson or have different names)\n",
    "set(df_countries[\"country\"]) - set(df_custom50[\"country\"])"
   ]
  },
  {
   "attachments": {},
   "cell_type": "markdown",
   "metadata": {},
   "source": [
    "We fix those corresponding to inconsistencies hem by applying the following mapping:\n",
    "\n",
    "- Bahamas -> The Bahamas\n",
    "- Brunei Darussalam -> Brunei\n",
    "\"Congo\": \"Republic of Congo\",\n",
    "\"Côte d'Ivoire\": \"Ivory Coast\",\n",
    "\"Serbia\": \"Republic of Serbia\",\n",
    "\"Tanzania\": \"United Republic of Tanzania\",\n",
    "\"United States\": \"United States of America\",\n",
    "\n",
    "- Cabo Verde -> Cape Verde\n",
    "\"Congo DRC\": \"Democratic Republic of the Congo\",\n",
    "\"Curacao\": \"Curaçao\",\n",
    "\"Eswatini\": \"Swaziland\",\n",
    "\"North Macedonia\": \"Macedonia\",\n",
    "\"Palestinian Territory\": \"Palestine\",\n",
    "\"Pitcairn\": \"Pitcairn Islands\",\n",
    "\"Russian Federation\": \"Russia\",\n",
    "\"US Virgin Islands\": \"United States Virgin Islands\",\n",
    "\"Vatican City\": \"Vatican\"\n",
    "\n",
    "\n",
    "\n",
    "Those who need separate GeoJson data are:\n",
    "- Christmas Island (Australia)\n",
    "- French Guiana (France)\n",
    "- Réunion (France)\n",
    "- Bouvet Island (Norway)\n",
    "- Svalbard (Norway)\n",
    "- Canarias (Spain)\n",
    "- Null Island (None)\n"
   ]
  },
  {
   "cell_type": "code",
   "execution_count": 10,
   "metadata": {},
   "outputs": [
    {
     "data": {
      "text/plain": [
       "{'Aland',\n",
       " 'American Samoa',\n",
       " 'Ashmore and Cartier Islands',\n",
       " 'British Indian Ocean Territory',\n",
       " 'Brunei',\n",
       " 'Burundi',\n",
       " 'Cape Verde',\n",
       " 'Central African Republic',\n",
       " 'Cook Islands',\n",
       " 'Curaçao',\n",
       " 'Democratic Republic of the Congo',\n",
       " 'East Timor',\n",
       " 'Eritrea',\n",
       " 'Ethiopia',\n",
       " 'Falkland Islands',\n",
       " 'Federated States of Micronesia',\n",
       " 'French Southern and Antarctic Lands',\n",
       " 'Gambia',\n",
       " 'Guinea Bissau',\n",
       " 'Heard Island and McDonald Islands',\n",
       " 'Hong Kong S.A.R.',\n",
       " 'Indian Ocean Territories',\n",
       " 'Ivory Coast',\n",
       " 'Japan',\n",
       " 'Lesotho',\n",
       " 'Macao S.A.R',\n",
       " 'Macedonia',\n",
       " 'Malawi',\n",
       " 'Montserrat',\n",
       " 'Nauru',\n",
       " 'Niger',\n",
       " 'Niue',\n",
       " 'Norfolk Island',\n",
       " 'Northern Cyprus',\n",
       " 'Palau',\n",
       " 'Palestine',\n",
       " 'Pitcairn Islands',\n",
       " 'Republic of Congo',\n",
       " 'Republic of Serbia',\n",
       " 'Russia',\n",
       " 'Rwanda',\n",
       " 'Saint Barthelemy',\n",
       " 'Saint Helena',\n",
       " 'Saint Martin',\n",
       " 'Sao Tome and Principe',\n",
       " 'Siachen Glacier',\n",
       " 'Sint Maarten',\n",
       " 'Somaliland',\n",
       " 'South Sudan',\n",
       " 'Swaziland',\n",
       " 'Tajikistan',\n",
       " 'The Bahamas',\n",
       " 'Tonga',\n",
       " 'Turkmenistan',\n",
       " 'United Republic of Tanzania',\n",
       " 'United States Virgin Islands',\n",
       " 'United States of America',\n",
       " 'Vanuatu',\n",
       " 'Vatican',\n",
       " 'Wallis and Futuna',\n",
       " 'Western Sahara'}"
      ]
     },
     "execution_count": 10,
     "metadata": {},
     "output_type": "execute_result"
    }
   ],
   "source": [
    "# The countries that are in custom50 but not in countries (do not have users or have different names) - 61\n",
    "set(df_custom50[\"country\"]) - set(df_countries[\"country\"])"
   ]
  },
  {
   "cell_type": "code",
   "execution_count": 11,
   "metadata": {},
   "outputs": [],
   "source": [
    "country_name_map = {\n",
    "    \"Bahamas\": \"The Bahamas\",\n",
    "    \"Brunei Darussalam\": \"Brunei\",\n",
    "    \"Cabo Verde\": \"Cape Verde\",\n",
    "    \"Congo\": \"Republic of Congo\",\n",
    "    \"Congo DRC\": \"Democratic Republic of the Congo\",\n",
    "    \"Curacao\": \"Curaçao\",\n",
    "    \"Côte d'Ivoire\": \"Ivory Coast\",\n",
    "    \"Eswatini\": \"Swaziland\",\n",
    "    \"North Macedonia\": \"Macedonia\",\n",
    "    \"Palestinian Territory\": \"Palestine\",\n",
    "    \"Pitcairn\": \"Pitcairn Islands\",\n",
    "    \"Russian Federation\": \"Russia\",\n",
    "    \"Serbia\": \"Republic of Serbia\",\n",
    "    \"Tanzania\": \"United Republic of Tanzania\",\n",
    "    \"US Virgin Islands\": \"United States Virgin Islands\",\n",
    "    \"United States\": \"United States of America\",\n",
    "    \"Vatican City\": \"Vatican\"\n",
    "}"
   ]
  },
  {
   "attachments": {},
   "cell_type": "markdown",
   "metadata": {},
   "source": [
    "Those who need separate GeoJson data are:\n",
    "- Christmas Island (Australia)\n",
    "- French Guiana (France)\n",
    "- Réunion (France)\n",
    "- Bouvet Island (Norway)\n",
    "- Svalbard (Norway)\n",
    "- Canarias (Spain)\n",
    "- Null Island: As this place is located in the middle of the Atlantic Ocean, we discard it from the dataset"
   ]
  },
  {
   "attachments": {},
   "cell_type": "markdown",
   "metadata": {},
   "source": [
    "# Australia\n",
    "- Christmas Island: The coordinates are stored in the \"Indian Ocean Territories\" feature in the GeoJSON data"
   ]
  },
  {
   "cell_type": "code",
   "execution_count": 12,
   "metadata": {},
   "outputs": [],
   "source": [
    "# Same as above but for Indian Ocean Territories\n",
    "indian_ocean_feature_index, indian_ocean_feature = [(i, feature) for i, feature in enumerate(custom50[\"features\"]) if feature[\"properties\"][\"admin\"] == \"Indian Ocean Territories\"][0]\n",
    "indian_ocean_geojson = indian_ocean_feature[\"geometry\"][\"coordinates\"]\n",
    "init_len_indian_ocean_geojson = len(indian_ocean_geojson) # 3"
   ]
  },
  {
   "cell_type": "code",
   "execution_count": 13,
   "metadata": {},
   "outputs": [],
   "source": [
    "christmas_geojson = indian_ocean_geojson[2]\n",
    "indian_ocean_geojson.pop(2)\n",
    "\n",
    "# Add a new feature for Christmas Island\n",
    "custom50[\"features\"].append({\n",
    "    \"type\": \"Feature\",\n",
    "    \"properties\": {\n",
    "        \"admin\": \"Christmas Island\",\n",
    "        \"sovereignt\": \"Australia\",\n",
    "        \"name_ja\": \"クリスマス島\"\n",
    "    },\n",
    "    \"geometry\": {\n",
    "        \"type\": \"Polygon\",\n",
    "        \"coordinates\": christmas_geojson\n",
    "    }\n",
    "})\n",
    "\n",
    "# Remove Christmas Island from Indian Ocean Territories\n",
    "custom50[\"features\"][indian_ocean_feature_index][\"geometry\"][\"coordinates\"] = indian_ocean_geojson\n"
   ]
  },
  {
   "attachments": {},
   "cell_type": "markdown",
   "metadata": {},
   "source": [
    "# Norway\n",
    "- Bouvet Island: We add manually the coordinates of Bouvet Island in the GeoJSON data, from [SITE](???)\n",
    "- Svalbard: The coordinates are stored in the Norway feature in the GeoJSON data"
   ]
  },
  {
   "cell_type": "code",
   "execution_count": 14,
   "metadata": {},
   "outputs": [],
   "source": [
    "norway_feature_index, norway_feature = [(i, feature) for i, feature in enumerate(custom50[\"features\"]) if feature[\"properties\"][\"admin\"] == \"Norway\"][0]\n",
    "norway_geojson = norway_feature[\"geometry\"][\"coordinates\"]\n",
    "init_len_norway_geojson = len(norway_geojson)"
   ]
  },
  {
   "cell_type": "code",
   "execution_count": 16,
   "metadata": {},
   "outputs": [],
   "source": [
    "norway_geojson, svalbard_geojson = norway_geojson[:23], norway_geojson[23:]\n",
    "\n",
    "# Add a new feature for Svalbard\n",
    "custom50[\"features\"].append({\n",
    "    \"type\": \"Feature\",\n",
    "    \"properties\": {\n",
    "        \"admin\": \"Svalbard\",\n",
    "        \"sovereignt\": \"Norway\",\n",
    "        \"name_ja\": \"スヴァールバル諸島\"\n",
    "    },\n",
    "    \"geometry\": {\n",
    "        \"type\": \"MultiPolygon\",\n",
    "        \"coordinates\": svalbard_geojson\n",
    "    }\n",
    "})\n",
    "\n",
    "# Remove Svalbard from Norway\n",
    "custom50[\"features\"][norway_feature_index][\"geometry\"][\"coordinates\"] = norway_geojson"
   ]
  },
  {
   "cell_type": "code",
   "execution_count": 17,
   "metadata": {},
   "outputs": [],
   "source": [
    "bouvet_geojson = [\n",
    "    [\n",
    "        [\n",
    "            3.3573532104492,\n",
    "            -54.382956707841295\n",
    "        ],\n",
    "        [\n",
    "            3.34911346435547,\n",
    "            -54.38355652073028\n",
    "        ],\n",
    "        [\n",
    "            3.34877014160156,\n",
    "            -54.3883547082951\n",
    "        ],\n",
    "        [\n",
    "            3.33606719970703,\n",
    "            -54.39255266225887\n",
    "        ],\n",
    "        [\n",
    "            3.30448150634766,\n",
    "            -54.39515118044875\n",
    "        ],\n",
    "        [\n",
    "            3.2862854003906,\n",
    "            -54.3917530850907\n",
    "        ],\n",
    "        [\n",
    "            3.2842254638672,\n",
    "            -54.396950058174404\n",
    "        ],\n",
    "        [\n",
    "            3.27701568603516,\n",
    "            -54.40814130293444\n",
    "        ],\n",
    "        [\n",
    "            3.2842254638672,\n",
    "            -54.431712859468426\n",
    "        ],\n",
    "        [\n",
    "            3.29246520996094,\n",
    "            -54.439300814458164\n",
    "        ],\n",
    "        [\n",
    "            3.3123779296875,\n",
    "            -54.45387373222012\n",
    "        ],\n",
    "        [\n",
    "            3.32988739013666,\n",
    "            -54.456069201735104\n",
    "        ],\n",
    "        [\n",
    "            3.35460662841797,\n",
    "            -54.450879720396834\n",
    "        ],\n",
    "        [\n",
    "            3.40919494628906,\n",
    "            -54.450280891757465\n",
    "        ],\n",
    "        [\n",
    "            3.4270477294922,\n",
    "            -54.44489103986841\n",
    "        ],\n",
    "        [\n",
    "            3.43906402587885,\n",
    "            -54.42052804806503\n",
    "        ],\n",
    "        [\n",
    "            3.43013763427734,\n",
    "            -54.40374510665786\n",
    "        ],\n",
    "        [\n",
    "            3.39443206787104,\n",
    "            -54.39015388401024\n",
    "        ],\n",
    "        [\n",
    "            3.36387634277344,\n",
    "            -54.38795488075697\n",
    "        ],\n",
    "        [\n",
    "            3.3573532104492,\n",
    "            -54.382956707841295\n",
    "        ]\n",
    "    ]\n",
    "]\n",
    "\n",
    "# Add a new feature for Bouvet Island\n",
    "custom50[\"features\"].append({\n",
    "    \"type\": \"Feature\",\n",
    "    \"properties\": {\n",
    "        \"admin\": \"Bouvet Island\",\n",
    "        \"sovereignt\": \"Norway\",\n",
    "        \"name_ja\": \"ブーベ島\"\n",
    "    },\n",
    "    \"geometry\": {\n",
    "        \"type\": \"Polygon\",\n",
    "        \"coordinates\": bouvet_geojson\n",
    "    }\n",
    "})\n"
   ]
  },
  {
   "attachments": {},
   "cell_type": "markdown",
   "metadata": {},
   "source": [
    "# France\n",
    "\n",
    "- Réunion\n",
    "- French Guiana\n",
    "\n",
    "Both coordinates are stored in the France feature in the GeoJSON data"
   ]
  },
  {
   "cell_type": "code",
   "execution_count": 18,
   "metadata": {},
   "outputs": [],
   "source": [
    "# Select the feature whose \"admin\" is \"France\"\n",
    "france_feature_index, france_feature = [(i, feature) for i, feature in enumerate(custom50[\"features\"]) if feature[\"properties\"][\"admin\"] == \"France\"][0]\n",
    "france_geojson = france_feature[\"geometry\"][\"coordinates\"]\n",
    "init_len_france_geojson = len(france_geojson)"
   ]
  },
  {
   "cell_type": "code",
   "execution_count": 19,
   "metadata": {},
   "outputs": [],
   "source": [
    "reunion_geojson = france_geojson[0]\n",
    "french_guiana_geojson = france_geojson[2]"
   ]
  },
  {
   "cell_type": "code",
   "execution_count": 20,
   "metadata": {},
   "outputs": [],
   "source": [
    "# Add a new feature in custom50 for Reunion\n",
    "custom50[\"features\"].append({\n",
    "    \"type\": \"Feature\",\n",
    "    \"properties\": {\n",
    "        \"admin\": \"Réunion\",\n",
    "        \"sovereignt\": \"France\",\n",
    "        \"name_ja\": \"レユニオン\"\n",
    "    },\n",
    "    \"geometry\": {\n",
    "        \"type\": \"Polygon\",\n",
    "        \"coordinates\": reunion_geojson\n",
    "    }\n",
    "})\n",
    "\n",
    "\n",
    "# Add a new feature in custom50 for French Guiana\n",
    "custom50[\"features\"].append({\n",
    "    \"type\": \"Feature\",\n",
    "    \"properties\": {\n",
    "        \"admin\": \"French Guiana\",\n",
    "        \"sovereignt\": \"France\",\n",
    "        \"name_ja\": \"フランス領ギアナ\"\n",
    "    },\n",
    "    \"geometry\": {\n",
    "        \"type\": \"Polygon\",\n",
    "        \"coordinates\": french_guiana_geojson\n",
    "    }\n",
    "})"
   ]
  },
  {
   "cell_type": "code",
   "execution_count": 21,
   "metadata": {},
   "outputs": [],
   "source": [
    "# Remove the elements at index 0 and 2 of the coordinates of the France feature\n",
    "france_geojson.pop(2)\n",
    "france_geojson.pop(0)\n",
    "custom50[\"features\"][france_feature_index][\"geometry\"][\"coordinates\"] = france_geojson"
   ]
  },
  {
   "cell_type": "code",
   "execution_count": 22,
   "metadata": {},
   "outputs": [],
   "source": [
    "# Among all the arrays of coordinates present in the geojson, search for the ones whose second coordinate value is between -55 and -54\n"
   ]
  },
  {
   "attachments": {},
   "cell_type": "markdown",
   "metadata": {},
   "source": [
    "# Spain\n",
    "\n",
    "- Canarias: The coordinates are stored in the Spain feature in the GeoJSON data"
   ]
  },
  {
   "cell_type": "code",
   "execution_count": 23,
   "metadata": {},
   "outputs": [],
   "source": [
    "# Get the index and the feature for Spain\n",
    "spain_feature_index, spain_feature = [(i, feature) for i, feature in enumerate(custom50[\"features\"]) if feature[\"properties\"][\"admin\"] == \"Spain\"][0]\n",
    "# spain_feature = [feature for feature in custom50[\"features\"] if feature[\"properties\"][\"admin\"] == \"Spain\"][0]\n",
    "spain_geojson = spain_feature[\"geometry\"][\"coordinates\"]\n",
    "init_len_spain_geojson = len(spain_geojson)"
   ]
  },
  {
   "cell_type": "code",
   "execution_count": 24,
   "metadata": {},
   "outputs": [],
   "source": [
    "canarias_geojson, spain_geojson = spain_geojson[:7], spain_geojson[7:]\n",
    "\n",
    "# Add a new feature in custom50 for Canarias\n",
    "custom50[\"features\"].append({\n",
    "    \"type\": \"Feature\",\n",
    "    \"properties\": {\n",
    "        \"admin\": \"Canarias\",\n",
    "        \"sovereignt\": \"Spain\",\n",
    "        \"name_ja\": \"カナリア諸島\"\n",
    "    },\n",
    "    \"geometry\": {\n",
    "        \"type\": \"MultiPolygon\",\n",
    "        \"coordinates\": canarias_geojson\n",
    "    }\n",
    "})\n",
    "\n",
    "custom50[\"features\"][spain_feature_index][\"geometry\"][\"coordinates\"] = spain_geojson"
   ]
  },
  {
   "attachments": {},
   "cell_type": "markdown",
   "metadata": {},
   "source": [
    "# Store the processed GeoJSON data"
   ]
  },
  {
   "cell_type": "code",
   "execution_count": 25,
   "metadata": {},
   "outputs": [],
   "source": [
    "with open(geojson_path / \"custom50_processed.json\", \"w\") as f:\n",
    "    json.dump(custom50, f)"
   ]
  },
  {
   "attachments": {},
   "cell_type": "markdown",
   "metadata": {},
   "source": [
    "# Tests"
   ]
  },
  {
   "cell_type": "code",
   "execution_count": 26,
   "metadata": {},
   "outputs": [],
   "source": [
    "with open(geojson_path / \"custom50_processed.json\", \"r\") as f:\n",
    "    custom50 = json.load(f)"
   ]
  },
  {
   "cell_type": "code",
   "execution_count": 27,
   "metadata": {},
   "outputs": [],
   "source": [
    "indian_ocean_feature = [feature for feature in custom50[\"features\"] if feature[\"properties\"][\"admin\"] == \"Indian Ocean Territories\"][0]\n",
    "indian_ocean_geojson = indian_ocean_feature[\"geometry\"][\"coordinates\"]\n",
    "assert len(indian_ocean_geojson) == init_len_indian_ocean_geojson - 1"
   ]
  },
  {
   "cell_type": "code",
   "execution_count": 28,
   "metadata": {},
   "outputs": [],
   "source": [
    "norway_feature = [feature for feature in custom50[\"features\"] if feature[\"properties\"][\"admin\"] == \"Norway\"][0]\n",
    "norway_geojson = norway_feature[\"geometry\"][\"coordinates\"]\n",
    "assert len(norway_geojson) == init_len_norway_geojson - 9"
   ]
  },
  {
   "cell_type": "code",
   "execution_count": 29,
   "metadata": {},
   "outputs": [],
   "source": [
    "france_feature = [feature for feature in custom50[\"features\"] if feature[\"properties\"][\"admin\"] == \"France\"][0]\n",
    "france_geojson = france_feature[\"geometry\"][\"coordinates\"]\n",
    "assert len(france_geojson) == init_len_france_geojson - 2"
   ]
  },
  {
   "cell_type": "code",
   "execution_count": 30,
   "metadata": {},
   "outputs": [],
   "source": [
    "spain_feature = [feature for feature in custom50[\"features\"] if feature[\"properties\"][\"admin\"] == \"Spain\"][0]\n",
    "spain_geojson = spain_feature[\"geometry\"][\"coordinates\"]\n",
    "assert len(spain_geojson) == init_len_spain_geojson - 7"
   ]
  }
 ],
 "metadata": {
  "kernelspec": {
   "display_name": "Python 3",
   "language": "python",
   "name": "python3"
  },
  "language_info": {
   "codemirror_mode": {
    "name": "ipython",
    "version": 3
   },
   "file_extension": ".py",
   "mimetype": "text/x-python",
   "name": "python",
   "nbconvert_exporter": "python",
   "pygments_lexer": "ipython3",
   "version": "3.10.6"
  },
  "orig_nbformat": 4
 },
 "nbformat": 4,
 "nbformat_minor": 2
}
