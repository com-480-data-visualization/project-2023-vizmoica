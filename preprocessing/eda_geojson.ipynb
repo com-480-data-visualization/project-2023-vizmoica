{
 "cells": [
  {
   "cell_type": "code",
   "execution_count": 1,
   "metadata": {},
   "outputs": [],
   "source": [
    "import pandas as pd\n",
    "import numpy as np\n",
    "import matplotlib.pyplot as plt\n",
    "import seaborn as sns\n",
    "\n",
    "from pathlib import Path\n",
    "data = Path(\"../data\")\n",
    "plot_path = data / \"plots\"\n",
    "map_path = data / \"graph3_map\"\n",
    "stat_path = map_path / \"stats\"\n",
    "geojson_path = map_path / \"geojson\"\n",
    "\n",
    "import json"
   ]
  },
  {
   "attachments": {},
   "cell_type": "markdown",
   "metadata": {},
   "source": [
    "# Load geojson data\n"
   ]
  },
  {
   "cell_type": "code",
   "execution_count": 21,
   "metadata": {},
   "outputs": [],
   "source": [
    "# Load custom.geo.json\n",
    "with open(geojson_path / \"custom.geo.json\") as f:\n",
    "    custom = json.load(f)\n",
    "df_custom = pd.DataFrame(\n",
    "    [\n",
    "        {\n",
    "            \"country\": feature[\"properties\"][\"admin\"],\n",
    "            \"country_aff\": feature[\"properties\"][\"sovereignt\"],\n",
    "            \"name_ja\": feature[\"properties\"][\"name_ja\"]\n",
    "        }\n",
    "        for feature in custom[\"features\"]\n",
    "    ]\n",
    ")\n",
    "df_custom.sort_values(by=\"country_aff\").to_csv(map_path / \"custom_countries.csv\", index=False)"
   ]
  },
  {
   "cell_type": "code",
   "execution_count": 22,
   "metadata": {},
   "outputs": [],
   "source": [
    "# Load custom50.json\n",
    "with open(geojson_path / \"custom50.json\") as f:\n",
    "    custom50 = json.load(f)\n",
    "\n",
    "df_custom50 = pd.DataFrame(\n",
    "    [\n",
    "        {\n",
    "            \"country\": feature[\"properties\"][\"admin\"],\n",
    "            \"country_aff\": feature[\"properties\"][\"sovereignt\"],\n",
    "        }\n",
    "        for feature in custom50[\"features\"]\n",
    "    ]\n",
    ")\n",
    "df_custom50.sort_values(by=\"country_aff\").to_csv(map_path / \"custom50_countries.csv\", index=False)"
   ]
  },
  {
   "cell_type": "code",
   "execution_count": 4,
   "metadata": {},
   "outputs": [
    {
     "data": {
      "text/plain": [
       "{'Czechia',\n",
       " 'Guadeloupe',\n",
       " 'Guinea-Bissau',\n",
       " 'Martinique',\n",
       " 'Mayotte',\n",
       " 'North Macedonia',\n",
       " 'Republic of the Congo',\n",
       " 'Réunion',\n",
       " 'eSwatini'}"
      ]
     },
     "execution_count": 4,
     "metadata": {},
     "output_type": "execute_result"
    }
   ],
   "source": [
    "# The countries that are in custom but not in custom50\n",
    "set(df_custom[\"country\"]) - set(df_custom50[\"country\"])"
   ]
  },
  {
   "attachments": {},
   "cell_type": "markdown",
   "metadata": {},
   "source": [
    "Fixed:\n",
    "- Czechia -> Czech Republic\n",
    "- Guinea-Bissau -> Guinea Bissau\n",
    "- North Macedonia -> Macedonia\n",
    "- Republic of the Congo -> Republic of Congo\n",
    "- eSwatini -> Swaziland"
   ]
  },
  {
   "cell_type": "code",
   "execution_count": 26,
   "metadata": {},
   "outputs": [
    {
     "data": {
      "text/plain": [
       "{'Guadeloupe', 'Martinique', 'Mayotte', 'Réunion'}"
      ]
     },
     "execution_count": 26,
     "metadata": {},
     "output_type": "execute_result"
    }
   ],
   "source": [
    "custom_to_custom50 = {\n",
    "    \"Czechia\": \"Czech Republic\",\n",
    "    \"Guinea-Bissau\": \"Guinea Bissau\",\n",
    "    \"North Macedonia\": \"Macedonia\",\n",
    "    \"Republic of the Congo\": \"Republic of Congo\",\n",
    "    \"eSwatini\": \"Swaziland\"\n",
    "}\n",
    "\n",
    "\n",
    "# Modify the custom json file by changing the all the \"admin\" and \"sovereignt\" fields that need it according to the mapping defined in the markdown cell just above\n",
    "for feature in custom[\"features\"]:\n",
    "    if feature[\"properties\"][\"admin\"] in custom_to_custom50:\n",
    "        feature[\"properties\"][\"admin\"] = custom_to_custom50[feature[\"properties\"][\"admin\"]]\n",
    "    if feature[\"properties\"][\"sovereignt\"] in custom_to_custom50:\n",
    "        feature[\"properties\"][\"sovereignt\"] = custom_to_custom50[feature[\"properties\"][\"sovereignt\"]]\n",
    "\n",
    "df_custom = pd.DataFrame(\n",
    "    [\n",
    "        {\n",
    "            \"country\": feature[\"properties\"][\"admin\"],\n",
    "            \"country_aff\": feature[\"properties\"][\"sovereignt\"],\n",
    "            \"name_ja\": feature[\"properties\"][\"name_ja\"]\n",
    "        }\n",
    "        for feature in custom[\"features\"]\n",
    "    ]\n",
    ")\n",
    "df_custom.sort_values(by=\"country_aff\").to_csv(map_path / \"custom_countries.csv\", index=False)\n",
    "\n",
    "# The countries that are in custom but not in custom50\n",
    "set(df_custom[\"country\"]) - set(df_custom50[\"country\"])"
   ]
  },
  {
   "cell_type": "code",
   "execution_count": 28,
   "metadata": {},
   "outputs": [],
   "source": [
    "# \"Join\" custom to custom50 by adding the \"name_ja\" field to custom50 that correspond to the \"name_ja\" field of custom (based on \"admin\")\n",
    "for feature in custom50[\"features\"]:\n",
    "    if feature[\"properties\"][\"admin\"] in df_custom[\"country\"].values:\n",
    "        feature[\"properties\"][\"name_ja\"] = df_custom[df_custom[\"country\"] == feature[\"properties\"][\"admin\"]][\"name_ja\"].values[0]\n",
    "\n",
    "    \n",
    "with open(geojson_path / \"custom50_processed.json\", \"w\") as f:\n",
    "    json.dump(custom50, f)"
   ]
  },
  {
   "cell_type": "code",
   "execution_count": 5,
   "metadata": {},
   "outputs": [
    {
     "data": {
      "text/plain": [
       "{'Aland',\n",
       " 'American Samoa',\n",
       " 'Andorra',\n",
       " 'Anguilla',\n",
       " 'Antarctica',\n",
       " 'Antigua and Barbuda',\n",
       " 'Aruba',\n",
       " 'Ashmore and Cartier Islands',\n",
       " 'Bahrain',\n",
       " 'Barbados',\n",
       " 'Bermuda',\n",
       " 'British Indian Ocean Territory',\n",
       " 'British Virgin Islands',\n",
       " 'Cape Verde',\n",
       " 'Cayman Islands',\n",
       " 'Comoros',\n",
       " 'Cook Islands',\n",
       " 'Curaçao',\n",
       " 'Czech Republic',\n",
       " 'Dominica',\n",
       " 'Faroe Islands',\n",
       " 'Federated States of Micronesia',\n",
       " 'French Polynesia',\n",
       " 'French Southern and Antarctic Lands',\n",
       " 'Grenada',\n",
       " 'Guam',\n",
       " 'Guernsey',\n",
       " 'Guinea Bissau',\n",
       " 'Heard Island and McDonald Islands',\n",
       " 'Hong Kong S.A.R.',\n",
       " 'Indian Ocean Territories',\n",
       " 'Isle of Man',\n",
       " 'Jersey',\n",
       " 'Kiribati',\n",
       " 'Liechtenstein',\n",
       " 'Macao S.A.R',\n",
       " 'Macedonia',\n",
       " 'Maldives',\n",
       " 'Malta',\n",
       " 'Marshall Islands',\n",
       " 'Mauritius',\n",
       " 'Monaco',\n",
       " 'Montserrat',\n",
       " 'Nauru',\n",
       " 'Niue',\n",
       " 'Norfolk Island',\n",
       " 'Northern Mariana Islands',\n",
       " 'Palau',\n",
       " 'Pitcairn Islands',\n",
       " 'Republic of Congo',\n",
       " 'Saint Barthelemy',\n",
       " 'Saint Helena',\n",
       " 'Saint Kitts and Nevis',\n",
       " 'Saint Lucia',\n",
       " 'Saint Martin',\n",
       " 'Saint Pierre and Miquelon',\n",
       " 'Saint Vincent and the Grenadines',\n",
       " 'Samoa',\n",
       " 'San Marino',\n",
       " 'Sao Tome and Principe',\n",
       " 'Seychelles',\n",
       " 'Siachen Glacier',\n",
       " 'Singapore',\n",
       " 'Sint Maarten',\n",
       " 'South Georgia and South Sandwich Islands',\n",
       " 'Swaziland',\n",
       " 'Tonga',\n",
       " 'Turks and Caicos Islands',\n",
       " 'United States Virgin Islands',\n",
       " 'Vatican',\n",
       " 'Wallis and Futuna'}"
      ]
     },
     "execution_count": 5,
     "metadata": {},
     "output_type": "execute_result"
    }
   ],
   "source": [
    "# The countries that are in custom50 but not in custom\n",
    "set(df_custom50[\"country\"]) - set(df_custom[\"country\"])"
   ]
  },
  {
   "attachments": {},
   "cell_type": "markdown",
   "metadata": {},
   "source": [
    "# Custom / Countries"
   ]
  },
  {
   "cell_type": "code",
   "execution_count": 9,
   "metadata": {},
   "outputs": [],
   "source": [
    "df_countries = pd.read_csv(map_path / \"stats/country_num_users.csv\")\n",
    "df_countries[\"country\"].sort_values().to_csv(map_path / \"countries.csv\", index=False)"
   ]
  },
  {
   "cell_type": "code",
   "execution_count": 10,
   "metadata": {},
   "outputs": [
    {
     "data": {
      "text/plain": [
       "{'Bahamas',\n",
       " 'Bouvet Island',\n",
       " 'Brunei Darussalam',\n",
       " 'Cabo Verde',\n",
       " 'Canarias',\n",
       " 'Christmas Island',\n",
       " 'Congo',\n",
       " 'Congo DRC',\n",
       " 'Curacao',\n",
       " \"Côte d'Ivoire\",\n",
       " 'Eswatini',\n",
       " 'French Guiana',\n",
       " 'North Macedonia',\n",
       " 'Null Island',\n",
       " 'Palestinian Territory',\n",
       " 'Pitcairn',\n",
       " 'Russian Federation',\n",
       " 'Réunion',\n",
       " 'Serbia',\n",
       " 'Svalbard',\n",
       " 'Tanzania',\n",
       " 'US Virgin Islands',\n",
       " 'United States',\n",
       " 'Vatican City'}"
      ]
     },
     "execution_count": 10,
     "metadata": {},
     "output_type": "execute_result"
    }
   ],
   "source": [
    "# The countries that are in countries but not in custom50 (do not have geojson) or have different names\n",
    "set(df_countries[\"country\"]) - set(df_custom50[\"country\"])"
   ]
  },
  {
   "attachments": {},
   "cell_type": "markdown",
   "metadata": {},
   "source": [
    "Non fixed:\n",
    "- Bouvet Island\n",
    "- Canarias\n",
    "- Christmas Island\n",
    "- French Guiana\n",
    "- Null Island\n",
    "- Réunion\n",
    "- Svalbard"
   ]
  },
  {
   "cell_type": "code",
   "execution_count": 19,
   "metadata": {},
   "outputs": [
    {
     "data": {
      "text/plain": [
       "{'Aland',\n",
       " 'American Samoa',\n",
       " 'Ashmore and Cartier Islands',\n",
       " 'British Indian Ocean Territory',\n",
       " 'Brunei',\n",
       " 'Burundi',\n",
       " 'Cape Verde',\n",
       " 'Central African Republic',\n",
       " 'Cook Islands',\n",
       " 'Curaçao',\n",
       " 'Democratic Republic of the Congo',\n",
       " 'East Timor',\n",
       " 'Eritrea',\n",
       " 'Ethiopia',\n",
       " 'Falkland Islands',\n",
       " 'Federated States of Micronesia',\n",
       " 'French Southern and Antarctic Lands',\n",
       " 'Gambia',\n",
       " 'Guinea Bissau',\n",
       " 'Heard Island and McDonald Islands',\n",
       " 'Hong Kong S.A.R.',\n",
       " 'Indian Ocean Territories',\n",
       " 'Ivory Coast',\n",
       " 'Japan',\n",
       " 'Lesotho',\n",
       " 'Macao S.A.R',\n",
       " 'Macedonia',\n",
       " 'Malawi',\n",
       " 'Montserrat',\n",
       " 'Nauru',\n",
       " 'Niger',\n",
       " 'Niue',\n",
       " 'Norfolk Island',\n",
       " 'Northern Cyprus',\n",
       " 'Palau',\n",
       " 'Palestine',\n",
       " 'Pitcairn Islands',\n",
       " 'Republic of Congo',\n",
       " 'Republic of Serbia',\n",
       " 'Russia',\n",
       " 'Rwanda',\n",
       " 'Saint Barthelemy',\n",
       " 'Saint Helena',\n",
       " 'Saint Martin',\n",
       " 'Sao Tome and Principe',\n",
       " 'Siachen Glacier',\n",
       " 'Sint Maarten',\n",
       " 'Somaliland',\n",
       " 'South Sudan',\n",
       " 'Swaziland',\n",
       " 'Tajikistan',\n",
       " 'The Bahamas',\n",
       " 'Tonga',\n",
       " 'Turkmenistan',\n",
       " 'United Republic of Tanzania',\n",
       " 'United States Virgin Islands',\n",
       " 'United States of America',\n",
       " 'Vanuatu',\n",
       " 'Vatican',\n",
       " 'Wallis and Futuna',\n",
       " 'Western Sahara'}"
      ]
     },
     "execution_count": 19,
     "metadata": {},
     "output_type": "execute_result"
    }
   ],
   "source": [
    "# The countries that are in custom50 but not in countries (do not have users or have different names) - 61\n",
    "set(df_custom50[\"country\"]) - set(df_countries[\"country\"])"
   ]
  },
  {
   "cell_type": "code",
   "execution_count": null,
   "metadata": {},
   "outputs": [],
   "source": []
  }
 ],
 "metadata": {
  "kernelspec": {
   "display_name": "Python 3",
   "language": "python",
   "name": "python3"
  },
  "language_info": {
   "codemirror_mode": {
    "name": "ipython",
    "version": 3
   },
   "file_extension": ".py",
   "mimetype": "text/x-python",
   "name": "python",
   "nbconvert_exporter": "python",
   "pygments_lexer": "ipython3",
   "version": "3.10.6"
  },
  "orig_nbformat": 4
 },
 "nbformat": 4,
 "nbformat_minor": 2
}
