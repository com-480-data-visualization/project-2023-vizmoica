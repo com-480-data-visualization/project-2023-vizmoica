{
 "cells": [
  {
   "cell_type": "code",
   "execution_count": 19,
   "metadata": {},
   "outputs": [],
   "source": [
    "import pandas as pd\n",
    "import matplotlib.pyplot as plt\n",
    "import seaborn as sns\n",
    "\n",
    "from pathlib import Path\n",
    "from ast import literal_eval\n",
    "from typing import Optional\n",
    "\n",
    "data = Path('../data')\n",
    "plotPath = Path('plots')"
   ]
  },
  {
   "attachments": {},
   "cell_type": "markdown",
   "metadata": {},
   "source": [
    "## Character traits"
   ]
  },
  {
   "cell_type": "code",
   "execution_count": 20,
   "metadata": {},
   "outputs": [],
   "source": [
    "dfChar = pd.read_csv(data / \"Anime_Triats.csv\")"
   ]
  },
  {
   "cell_type": "code",
   "execution_count": 21,
   "metadata": {},
   "outputs": [
    {
     "data": {
      "text/html": [
       "<div>\n",
       "<style scoped>\n",
       "    .dataframe tbody tr th:only-of-type {\n",
       "        vertical-align: middle;\n",
       "    }\n",
       "\n",
       "    .dataframe tbody tr th {\n",
       "        vertical-align: top;\n",
       "    }\n",
       "\n",
       "    .dataframe thead th {\n",
       "        text-align: right;\n",
       "    }\n",
       "</style>\n",
       "<table border=\"1\" class=\"dataframe\">\n",
       "  <thead>\n",
       "    <tr style=\"text-align: right;\">\n",
       "      <th></th>\n",
       "      <th>Id</th>\n",
       "      <th>Names</th>\n",
       "      <th>Hair_Color</th>\n",
       "      <th>Gender</th>\n",
       "      <th>Tags</th>\n",
       "      <th>Anime</th>\n",
       "      <th>Manga</th>\n",
       "    </tr>\n",
       "  </thead>\n",
       "  <tbody>\n",
       "    <tr>\n",
       "      <th>0</th>\n",
       "      <td>0</td>\n",
       "      <td>L</td>\n",
       "      <td>Black Hair</td>\n",
       "      <td>Male</td>\n",
       "      <td>['Analytical', 'Barefoot', 'Detective', 'Eye B...</td>\n",
       "      <td>['Death Note', 'Death Note Rewrite 1: Visions ...</td>\n",
       "      <td>['Death Note', 'Death Note: L Change the World...</td>\n",
       "    </tr>\n",
       "    <tr>\n",
       "      <th>1</th>\n",
       "      <td>1</td>\n",
       "      <td>Kakashi HATAKE</td>\n",
       "      <td>Grey Hair</td>\n",
       "      <td>Male</td>\n",
       "      <td>['Adult', 'Anti-Gravity Hair', 'Beastmaster', ...</td>\n",
       "      <td>['Boruto: Naruto Next Generations', 'Boruto: N...</td>\n",
       "      <td>['Boruto: Naruto the Movie Tokubetsu Bangai-he...</td>\n",
       "    </tr>\n",
       "    <tr>\n",
       "      <th>2</th>\n",
       "      <td>2</td>\n",
       "      <td>Edward ELRIC</td>\n",
       "      <td>Blonde Hair</td>\n",
       "      <td>Male</td>\n",
       "      <td>['Alchemist', 'Arm Blades', 'Artificial Limb',...</td>\n",
       "      <td>['Fullmetal Alchemist', 'Fullmetal Alchemist: ...</td>\n",
       "      <td>['Fullmetal Alchemist', 'Fullmetal Alchemist G...</td>\n",
       "    </tr>\n",
       "    <tr>\n",
       "      <th>3</th>\n",
       "      <td>3</td>\n",
       "      <td>Levi</td>\n",
       "      <td>Black Hair</td>\n",
       "      <td>Male</td>\n",
       "      <td>['Adult', 'Military', 'Ruthless', 'Stoic', 'Sw...</td>\n",
       "      <td>['Attack on Skytree', 'Attack on Titan', 'Atta...</td>\n",
       "      <td>['Attack on Titan', 'Attack on Titan: Junior H...</td>\n",
       "    </tr>\n",
       "    <tr>\n",
       "      <th>4</th>\n",
       "      <td>4</td>\n",
       "      <td>Light YAGAMI</td>\n",
       "      <td>Brown Hair</td>\n",
       "      <td>Male</td>\n",
       "      <td>['Analytical', 'Big Ego', 'Charismatic', 'God ...</td>\n",
       "      <td>['Death Note', 'Death Note Rewrite 1: Visions ...</td>\n",
       "      <td>['Death Note']</td>\n",
       "    </tr>\n",
       "  </tbody>\n",
       "</table>\n",
       "</div>"
      ],
      "text/plain": [
       "   Id           Names   Hair_Color Gender  \\\n",
       "0   0               L   Black Hair   Male   \n",
       "1   1  Kakashi HATAKE    Grey Hair   Male   \n",
       "2   2    Edward ELRIC  Blonde Hair   Male   \n",
       "3   3            Levi   Black Hair   Male   \n",
       "4   4    Light YAGAMI   Brown Hair   Male   \n",
       "\n",
       "                                                Tags  \\\n",
       "0  ['Analytical', 'Barefoot', 'Detective', 'Eye B...   \n",
       "1  ['Adult', 'Anti-Gravity Hair', 'Beastmaster', ...   \n",
       "2  ['Alchemist', 'Arm Blades', 'Artificial Limb',...   \n",
       "3  ['Adult', 'Military', 'Ruthless', 'Stoic', 'Sw...   \n",
       "4  ['Analytical', 'Big Ego', 'Charismatic', 'God ...   \n",
       "\n",
       "                                               Anime  \\\n",
       "0  ['Death Note', 'Death Note Rewrite 1: Visions ...   \n",
       "1  ['Boruto: Naruto Next Generations', 'Boruto: N...   \n",
       "2  ['Fullmetal Alchemist', 'Fullmetal Alchemist: ...   \n",
       "3  ['Attack on Skytree', 'Attack on Titan', 'Atta...   \n",
       "4  ['Death Note', 'Death Note Rewrite 1: Visions ...   \n",
       "\n",
       "                                               Manga  \n",
       "0  ['Death Note', 'Death Note: L Change the World...  \n",
       "1  ['Boruto: Naruto the Movie Tokubetsu Bangai-he...  \n",
       "2  ['Fullmetal Alchemist', 'Fullmetal Alchemist G...  \n",
       "3  ['Attack on Titan', 'Attack on Titan: Junior H...  \n",
       "4                                     ['Death Note']  "
      ]
     },
     "execution_count": 21,
     "metadata": {},
     "output_type": "execute_result"
    }
   ],
   "source": [
    "dfChar.head(5)"
   ]
  },
  {
   "cell_type": "code",
   "execution_count": 22,
   "metadata": {},
   "outputs": [
    {
     "data": {
      "text/plain": [
       "62063"
      ]
     },
     "execution_count": 22,
     "metadata": {},
     "output_type": "execute_result"
    }
   ],
   "source": [
    "dfChar[dfChar[\"Gender\"] == \"Male\"][\"Gender\"].count()"
   ]
  },
  {
   "cell_type": "code",
   "execution_count": 23,
   "metadata": {},
   "outputs": [
    {
     "data": {
      "text/plain": [
       "51143"
      ]
     },
     "execution_count": 23,
     "metadata": {},
     "output_type": "execute_result"
    }
   ],
   "source": [
    "dfChar[dfChar[\"Gender\"] == \"Female\"][\"Gender\"].count()"
   ]
  },
  {
   "cell_type": "code",
   "execution_count": 24,
   "metadata": {},
   "outputs": [],
   "source": [
    "dfGender = dfChar[[\"Gender\",\"Names\"]].groupby(\"Gender\").count().reset_index()"
   ]
  },
  {
   "cell_type": "code",
   "execution_count": 25,
   "metadata": {},
   "outputs": [
    {
     "data": {
      "text/html": [
       "<div>\n",
       "<style scoped>\n",
       "    .dataframe tbody tr th:only-of-type {\n",
       "        vertical-align: middle;\n",
       "    }\n",
       "\n",
       "    .dataframe tbody tr th {\n",
       "        vertical-align: top;\n",
       "    }\n",
       "\n",
       "    .dataframe thead th {\n",
       "        text-align: right;\n",
       "    }\n",
       "</style>\n",
       "<table border=\"1\" class=\"dataframe\">\n",
       "  <thead>\n",
       "    <tr style=\"text-align: right;\">\n",
       "      <th></th>\n",
       "      <th>Gender</th>\n",
       "      <th>Names</th>\n",
       "    </tr>\n",
       "  </thead>\n",
       "  <tbody>\n",
       "    <tr>\n",
       "      <th>0</th>\n",
       "      <td>110115</td>\n",
       "      <td>1</td>\n",
       "    </tr>\n",
       "    <tr>\n",
       "      <th>1</th>\n",
       "      <td>Female</td>\n",
       "      <td>51142</td>\n",
       "    </tr>\n",
       "    <tr>\n",
       "      <th>2</th>\n",
       "      <td>Female General and Eldest Princess (Novel)</td>\n",
       "      <td>2</td>\n",
       "    </tr>\n",
       "    <tr>\n",
       "      <th>3</th>\n",
       "      <td>I Met the Male Lead in Prison (Promo)</td>\n",
       "      <td>1</td>\n",
       "    </tr>\n",
       "    <tr>\n",
       "      <th>4</th>\n",
       "      <td>Male</td>\n",
       "      <td>62063</td>\n",
       "    </tr>\n",
       "  </tbody>\n",
       "</table>\n",
       "</div>"
      ],
      "text/plain": [
       "                                       Gender  Names\n",
       "0                                      110115      1\n",
       "1                                      Female  51142\n",
       "2  Female General and Eldest Princess (Novel)      2\n",
       "3       I Met the Male Lead in Prison (Promo)      1\n",
       "4                                        Male  62063"
      ]
     },
     "execution_count": 25,
     "metadata": {},
     "output_type": "execute_result"
    }
   ],
   "source": [
    "dfGender.head(5)"
   ]
  },
  {
   "cell_type": "code",
   "execution_count": 26,
   "metadata": {},
   "outputs": [
    {
     "data": {
      "image/png": "[encoded data removed]",
      "text/plain": [
       "<Figure size 640x480 with 1 Axes>"
      ]
     },
     "metadata": {},
     "output_type": "display_data"
    }
   ],
   "source": [
    "plot = sns.barplot(data = dfGender[dfGender[\"Names\"] > 10], x = \"Gender\", y= \"Names\")\n",
    "plt.title(\"Distribution of genders in anime characters\")\n",
    "plt.ylabel(\"Number of characters\")\n",
    "plot.get_figure().savefig(data / plotPath / \"Distribution of genders in anime characters.png\")"
   ]
  },
  {
   "cell_type": "code",
   "execution_count": 27,
   "metadata": {},
   "outputs": [],
   "source": [
    "dfChar = dfChar[[\"Names\",\"Tags\"]]\n",
    "dfChar.dropna(inplace=True)"
   ]
  },
  {
   "cell_type": "code",
   "execution_count": 28,
   "metadata": {},
   "outputs": [],
   "source": [
    "def safe_literal_eval(node) -> Optional[str]:\n",
    "     try:\n",
    "         return literal_eval(node)\n",
    "     except ValueError:\n",
    "         return None"
   ]
  },
  {
   "cell_type": "code",
   "execution_count": 29,
   "metadata": {},
   "outputs": [],
   "source": [
    "dfChar[\"Tags\"] = dfChar[\"Tags\"].apply(safe_literal_eval)\n",
    "dfChar = dfChar.explode(\"Tags\")"
   ]
  },
  {
   "cell_type": "code",
   "execution_count": 30,
   "metadata": {},
   "outputs": [
    {
     "data": {
      "text/html": [
       "<div>\n",
       "<style scoped>\n",
       "    .dataframe tbody tr th:only-of-type {\n",
       "        vertical-align: middle;\n",
       "    }\n",
       "\n",
       "    .dataframe tbody tr th {\n",
       "        vertical-align: top;\n",
       "    }\n",
       "\n",
       "    .dataframe thead th {\n",
       "        text-align: right;\n",
       "    }\n",
       "</style>\n",
       "<table border=\"1\" class=\"dataframe\">\n",
       "  <thead>\n",
       "    <tr style=\"text-align: right;\">\n",
       "      <th></th>\n",
       "      <th>Names</th>\n",
       "      <th>Tags</th>\n",
       "    </tr>\n",
       "  </thead>\n",
       "  <tbody>\n",
       "    <tr>\n",
       "      <th>0</th>\n",
       "      <td>L</td>\n",
       "      <td>Analytical</td>\n",
       "    </tr>\n",
       "    <tr>\n",
       "      <th>0</th>\n",
       "      <td>L</td>\n",
       "      <td>Barefoot</td>\n",
       "    </tr>\n",
       "    <tr>\n",
       "      <th>0</th>\n",
       "      <td>L</td>\n",
       "      <td>Detective</td>\n",
       "    </tr>\n",
       "    <tr>\n",
       "      <th>0</th>\n",
       "      <td>L</td>\n",
       "      <td>Eye Bags</td>\n",
       "    </tr>\n",
       "    <tr>\n",
       "      <th>0</th>\n",
       "      <td>L</td>\n",
       "      <td>Sweet Tooth</td>\n",
       "    </tr>\n",
       "  </tbody>\n",
       "</table>\n",
       "</div>"
      ],
      "text/plain": [
       "  Names         Tags\n",
       "0     L   Analytical\n",
       "0     L     Barefoot\n",
       "0     L    Detective\n",
       "0     L     Eye Bags\n",
       "0     L  Sweet Tooth"
      ]
     },
     "execution_count": 30,
     "metadata": {},
     "output_type": "execute_result"
    }
   ],
   "source": [
    "dfChar.head(5)"
   ]
  },
  {
   "cell_type": "code",
   "execution_count": 31,
   "metadata": {},
   "outputs": [
    {
     "data": {
      "text/html": [
       "<div>\n",
       "<style scoped>\n",
       "    .dataframe tbody tr th:only-of-type {\n",
       "        vertical-align: middle;\n",
       "    }\n",
       "\n",
       "    .dataframe tbody tr th {\n",
       "        vertical-align: top;\n",
       "    }\n",
       "\n",
       "    .dataframe thead th {\n",
       "        text-align: right;\n",
       "    }\n",
       "</style>\n",
       "<table border=\"1\" class=\"dataframe\">\n",
       "  <thead>\n",
       "    <tr style=\"text-align: right;\">\n",
       "      <th></th>\n",
       "      <th>Tags</th>\n",
       "      <th>Names</th>\n",
       "    </tr>\n",
       "  </thead>\n",
       "  <tbody>\n",
       "    <tr>\n",
       "      <th>0</th>\n",
       "      <td>\"Anata wo Hitokoto de Arawashite Kudasai\" no S...</td>\n",
       "      <td>2</td>\n",
       "    </tr>\n",
       "    <tr>\n",
       "      <th>1</th>\n",
       "      <td>\"Aoi\" - Hikaru ga Chikyuu ni Itakoro......</td>\n",
       "      <td>4</td>\n",
       "    </tr>\n",
       "    <tr>\n",
       "      <th>2</th>\n",
       "      <td>\"Bungaku Shoujo\" Kyou no Oyatsu: Hatsukoi</td>\n",
       "      <td>2</td>\n",
       "    </tr>\n",
       "    <tr>\n",
       "      <th>3</th>\n",
       "      <td>\"Bungaku Shoujo\" Memoire</td>\n",
       "      <td>6</td>\n",
       "    </tr>\n",
       "    <tr>\n",
       "      <th>4</th>\n",
       "      <td>\"Bungaku Shoujo\" Movie</td>\n",
       "      <td>4</td>\n",
       "    </tr>\n",
       "  </tbody>\n",
       "</table>\n",
       "</div>"
      ],
      "text/plain": [
       "                                                Tags  Names\n",
       "0  \"Anata wo Hitokoto de Arawashite Kudasai\" no S...      2\n",
       "1         \"Aoi\" - Hikaru ga Chikyuu ni Itakoro......      4\n",
       "2          \"Bungaku Shoujo\" Kyou no Oyatsu: Hatsukoi      2\n",
       "3                           \"Bungaku Shoujo\" Memoire      6\n",
       "4                             \"Bungaku Shoujo\" Movie      4"
      ]
     },
     "execution_count": 31,
     "metadata": {},
     "output_type": "execute_result"
    }
   ],
   "source": [
    "dfChar = dfChar.groupby('Tags').count()\n",
    "dfChar.reset_index(inplace=True)\n",
    "dfChar.head(5)"
   ]
  },
  {
   "cell_type": "code",
   "execution_count": 32,
   "metadata": {},
   "outputs": [
    {
     "data": {
      "text/html": [
       "<div>\n",
       "<style scoped>\n",
       "    .dataframe tbody tr th:only-of-type {\n",
       "        vertical-align: middle;\n",
       "    }\n",
       "\n",
       "    .dataframe tbody tr th {\n",
       "        vertical-align: top;\n",
       "    }\n",
       "\n",
       "    .dataframe thead th {\n",
       "        text-align: right;\n",
       "    }\n",
       "</style>\n",
       "<table border=\"1\" class=\"dataframe\">\n",
       "  <thead>\n",
       "    <tr style=\"text-align: right;\">\n",
       "      <th></th>\n",
       "      <th>Tags</th>\n",
       "      <th>Count</th>\n",
       "    </tr>\n",
       "  </thead>\n",
       "  <tbody>\n",
       "    <tr>\n",
       "      <th>252</th>\n",
       "      <td>Adult</td>\n",
       "      <td>22405</td>\n",
       "    </tr>\n",
       "    <tr>\n",
       "      <th>7713</th>\n",
       "      <td>Teenager</td>\n",
       "      <td>19875</td>\n",
       "    </tr>\n",
       "    <tr>\n",
       "      <th>3315</th>\n",
       "      <td>High School Student</td>\n",
       "      <td>12919</td>\n",
       "    </tr>\n",
       "    <tr>\n",
       "      <th>2854</th>\n",
       "      <td>Glasses</td>\n",
       "      <td>8992</td>\n",
       "    </tr>\n",
       "    <tr>\n",
       "      <th>2319</th>\n",
       "      <td>Facial Hair</td>\n",
       "      <td>8807</td>\n",
       "    </tr>\n",
       "    <tr>\n",
       "      <th>4758</th>\n",
       "      <td>Magic User</td>\n",
       "      <td>5559</td>\n",
       "    </tr>\n",
       "    <tr>\n",
       "      <th>7559</th>\n",
       "      <td>Sword Fighter</td>\n",
       "      <td>3920</td>\n",
       "    </tr>\n",
       "    <tr>\n",
       "      <th>1347</th>\n",
       "      <td>Child</td>\n",
       "      <td>3800</td>\n",
       "    </tr>\n",
       "    <tr>\n",
       "      <th>658</th>\n",
       "      <td>Athlete</td>\n",
       "      <td>3772</td>\n",
       "    </tr>\n",
       "    <tr>\n",
       "      <th>5068</th>\n",
       "      <td>Military</td>\n",
       "      <td>3643</td>\n",
       "    </tr>\n",
       "  </tbody>\n",
       "</table>\n",
       "</div>"
      ],
      "text/plain": [
       "                     Tags  Count\n",
       "252                 Adult  22405\n",
       "7713             Teenager  19875\n",
       "3315  High School Student  12919\n",
       "2854              Glasses   8992\n",
       "2319          Facial Hair   8807\n",
       "4758           Magic User   5559\n",
       "7559        Sword Fighter   3920\n",
       "1347                Child   3800\n",
       "658               Athlete   3772\n",
       "5068             Military   3643"
      ]
     },
     "execution_count": 32,
     "metadata": {},
     "output_type": "execute_result"
    }
   ],
   "source": [
    "test = dfChar[dfChar[\"Names\"] > 2000]\n",
    "test = test.rename(columns={\"Names\" : \"Count\"})\n",
    "test.sort_values(by=['Count'], ascending=False,inplace=True)\n",
    "test = test[(test[\"Tags\"] != \"Ponytail\") & (test[\"Tags\"] != \"Hat\") & (test[\"Tags\"] != \"Pointy Ears\") & (test[\"Tags\"] != \"Hair Ribbons\") & (test[\"Tags\"] != \"Hair Antenna\") & (test[\"Tags\"] != \"Headband\") & (test[\"Tags\"] != \"Pigtails\")]\n",
    "test.head(10)"
   ]
  },
  {
   "cell_type": "code",
   "execution_count": 33,
   "metadata": {},
   "outputs": [
    {
     "data": {
      "image/png": "[encoded data removed]",
      "text/plain": [
       "<Figure size 2000x1000 with 1 Axes>"
      ]
     },
     "metadata": {},
     "output_type": "display_data"
    }
   ],
   "source": [
    "plt.figure(figsize=(20,10))\n",
    "plot = sns.barplot(data = test, y = \"Tags\", x = \"Count\")\n",
    "plt.title(\"Most common traits for anime characters\")\n",
    "plt.xlabel(\"Number of characters\")\n",
    "plt.ylabel(\"Traits\")\n",
    "plt.show()\n",
    "plot.get_figure().savefig(data / plotPath / \"Most common traits for animes characters.png\")"
   ]
  },
  {
   "cell_type": "code",
   "execution_count": null,
   "metadata": {},
   "outputs": [],
   "source": []
  }
 ],
 "metadata": {
  "kernelspec": {
   "display_name": "ada",
   "language": "python",
   "name": "python3"
  },
  "language_info": {
   "codemirror_mode": {
    "name": "ipython",
    "version": 3
   },
   "file_extension": ".py",
   "mimetype": "text/x-python",
   "name": "python",
   "nbconvert_exporter": "python",
   "pygments_lexer": "ipython3",
   "version": "3.9.13"
  },
  "orig_nbformat": 4
 },
 "nbformat": 4,
 "nbformat_minor": 2
}
